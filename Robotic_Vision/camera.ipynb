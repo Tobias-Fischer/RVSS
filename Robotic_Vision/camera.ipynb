{
  "cells": [
    {
      "cell_type": "markdown",
      "metadata": {
        "id": "GOBPjUzoqL5j"
      },
      "source": [
        "<table>\n",
        "  <tr>\n",
        "    <td><img src=\"https://github.com/rvss-australia/RVSS/blob/main/Pics/RVSS-logo-col.med.jpg?raw=1\" width=\"400\"></td>\n",
        "    <td><div align=\"left\"><font size=\"30\">Modeling a perspective camera</font></div></td>\n",
        "  </tr>\n",
        "</table>\n",
        "\n",
        "(c) Peter Corke 2024\n",
        "\n",
        "Robotics, Vision & Control: Python, see section 13.2.2"
      ]
    },
    {
      "cell_type": "markdown",
      "metadata": {
        "id": "l-p9YGCUqRra"
      },
      "source": [
        "## Configuring CoLab\n",
        "To make this run nicely in CoLab we have to install a bunch of packages. This will be slow and at the end you will need to restart the kernel. Push the RESTART KERNEL button that appears or from the menu above Runtime/RestartRuntime"
      ]
    },
    {
      "cell_type": "code",
      "execution_count": 1,
      "metadata": {
        "id": "NGGDoC29qR1a"
      },
      "outputs": [],
      "source": [
        "try:\n",
        "    import google.colab\n",
        "    print('Running on CoLab')\n",
        "    !pip install machinevision-toolbox-python\n",
        "    COLAB = True\n",
        "except:\n",
        "    COLAB = False"
      ]
    },
    {
      "cell_type": "markdown",
      "metadata": {
        "id": "JTK0bQu5qSA9"
      },
      "source": [
        "Now, we can import some of the packages we need throughout, Matplotlib and NumPy, and configure the CoLab environment a bit."
      ]
    },
    {
      "cell_type": "code",
      "execution_count": 2,
      "metadata": {
        "id": "xx37U-27qL5r"
      },
      "outputs": [],
      "source": [
        "%matplotlib inline\n",
        "\n",
        "import numpy as np\n",
        "import math\n",
        "from spatialmath import SE3\n",
        "from spatialmath.base import e2h, h2e\n",
        "import machinevisiontoolbox as mvtb"
      ]
    },
    {
      "cell_type": "markdown",
      "metadata": {
        "id": "CNcehwNmqL5t"
      },
      "source": [
        "# From first principles\n",
        "\n",
        "Let's define some parameters of our camera"
      ]
    },
    {
      "cell_type": "code",
      "execution_count": 3,
      "metadata": {
        "id": "vAIz_xK9qL5u"
      },
      "outputs": [],
      "source": [
        "f = 8*1e-3     # focal length in metres\n",
        "rho = 10*1e-6  # pixel side length in metres\n",
        "u0 = 500       # principal point, horizontal coordinate\n",
        "v0 = 500       # principal point, vertical coordinate"
      ]
    },
    {
      "cell_type": "markdown",
      "metadata": {
        "id": "ZNY-AQvCqL5u"
      },
      "source": [
        "Next we define some matrices.  \n",
        "\n",
        "The first is a 3x3 _intrinsic_ matrix that contains information about the camera itself:\n",
        "  - focal length of the lens\n",
        "  - pixel size\n",
        "  - the position of the principal point in units of pixels,this is where the _principal ray_ pierces the image plane."
      ]
    },
    {
      "cell_type": "code",
      "execution_count": 4,
      "metadata": {
        "id": "THUZYQIsqL5v"
      },
      "outputs": [],
      "source": [
        "K = np.array([  [f/rho, 0, u0], \n",
        "                [0, f/rho, v0], \n",
        "                [0, 0, 1]])"
      ]
    },
    {
      "cell_type": "markdown",
      "metadata": {
        "id": "pY0n-LzTqL5w"
      },
      "source": [
        "The next is a 3x4 matrix that performs the projection, reduces the 3D world point to a 2D image plane point"
      ]
    },
    {
      "cell_type": "code",
      "execution_count": 5,
      "metadata": {
        "id": "xYqu8FTkqL5w"
      },
      "outputs": [],
      "source": [
        "P0 = np.array([ [1, 0, 0, 0],\n",
        "                [0, 1, 0, 0],\n",
        "                [0, 0, 1, 0]])"
      ]
    },
    {
      "cell_type": "markdown",
      "metadata": {
        "id": "Mqfb7FI9qL5w"
      },
      "source": [
        "Then finally a 4x4 _extrinsic_ matrix_ which says how the camera is positioned and oriented in space. An identity matrix has our camera at the world frame origin and looking along the world z-axis."
      ]
    },
    {
      "cell_type": "code",
      "execution_count": 6,
      "metadata": {
        "id": "PvetB5hLqL5x"
      },
      "outputs": [],
      "source": [
        "X = np.identity(4)"
      ]
    },
    {
      "cell_type": "markdown",
      "metadata": {
        "id": "1TlYJip_qL5x"
      },
      "source": [
        "We multiply these three matrices together to form the camera matrix"
      ]
    },
    {
      "cell_type": "code",
      "execution_count": 7,
      "metadata": {
        "id": "FvypDqy7qL5y"
      },
      "outputs": [],
      "source": [
        "C = K @ P0 @ X"
      ]
    },
    {
      "cell_type": "markdown",
      "metadata": {
        "id": "8MuxmN4lqL5y"
      },
      "source": [
        "The resulting camera matrix is a 3x4 matrix"
      ]
    },
    {
      "cell_type": "code",
      "execution_count": 8,
      "metadata": {
        "id": "hZQayaEwqL5z"
      },
      "outputs": [
        {
          "data": {
            "text/plain": [
              "(3, 4)"
            ]
          },
          "execution_count": 8,
          "metadata": {},
          "output_type": "execute_result"
        }
      ],
      "source": [
        "C.shape"
      ]
    },
    {
      "cell_type": "markdown",
      "metadata": {
        "id": "OlbgLj9GqL51"
      },
      "source": [
        "Next we define a point in terms of its 3D coordinates (in units of metres), as a column vector"
      ]
    },
    {
      "cell_type": "code",
      "execution_count": 9,
      "metadata": {
        "id": "BwFao9FHqL51"
      },
      "outputs": [],
      "source": [
        "P = np.array([1, -2, 5])"
      ]
    },
    {
      "cell_type": "markdown",
      "metadata": {
        "id": "-FIVXwtxqL52"
      },
      "source": [
        "To perform the projection we need to convert our 3D coordinate to homogeneous form, which is done by the helper function `e2h`"
      ]
    },
    {
      "cell_type": "code",
      "execution_count": 10,
      "metadata": {
        "id": "ZF0DVhGXqL54"
      },
      "outputs": [
        {
          "data": {
            "text/plain": [
              "array([[ 1.],\n",
              "       [-2.],\n",
              "       [ 5.],\n",
              "       [ 1.]])"
            ]
          },
          "execution_count": 10,
          "metadata": {},
          "output_type": "execute_result"
        }
      ],
      "source": [
        "e2h(P)"
      ]
    },
    {
      "cell_type": "markdown",
      "metadata": {
        "id": "OPzACappqL54"
      },
      "source": [
        "Now we can premultiply this by the camera matrix to get the image plane coordinates in homoogeneous form"
      ]
    },
    {
      "cell_type": "code",
      "execution_count": 11,
      "metadata": {
        "id": "BJWstKNDqL55"
      },
      "outputs": [
        {
          "data": {
            "text/plain": [
              "array([[3300.],\n",
              "       [ 900.],\n",
              "       [   5.]])"
            ]
          },
          "execution_count": 11,
          "metadata": {},
          "output_type": "execute_result"
        }
      ],
      "source": [
        "C @ e2h(P)"
      ]
    },
    {
      "cell_type": "markdown",
      "metadata": {
        "id": "20aGjvi0qL55"
      },
      "source": [
        "and we use the helper function `h2e` to convert that back to Euclidean coordinates - the 2D image plane coordinates in units of pixels"
      ]
    },
    {
      "cell_type": "code",
      "execution_count": 12,
      "metadata": {
        "id": "fec4Bj3NqL56"
      },
      "outputs": [
        {
          "data": {
            "text/plain": [
              "array([[660.],\n",
              "       [180.]])"
            ]
          },
          "execution_count": 12,
          "metadata": {},
          "output_type": "execute_result"
        }
      ],
      "source": [
        "h2e( C @ e2h(P) )"
      ]
    },
    {
      "cell_type": "markdown",
      "metadata": {
        "id": "HPUMGjz0qL56"
      },
      "source": [
        "If we move the point 0.5m in the x-axis direction we see that the u-coordinate in the image plane increases, as we would expect"
      ]
    },
    {
      "cell_type": "code",
      "execution_count": 13,
      "metadata": {
        "id": "kkVCgK8uqL56"
      },
      "outputs": [
        {
          "data": {
            "text/plain": [
              "array([[1060.],\n",
              "       [1140.]])"
            ]
          },
          "execution_count": 13,
          "metadata": {},
          "output_type": "execute_result"
        }
      ],
      "source": [
        "P1 = np.array([3.5, 4, 5])\n",
        "h2e( C @ e2h(P1) )"
      ]
    },
    {
      "cell_type": "markdown",
      "metadata": {
        "id": "Xl71ZCxkqL57"
      },
      "source": [
        "Now we will move the camera 0.5m in the x-axis direction. We do this by setting the top right element of the _extrinsic_ matrix so as to represent a translation of 0.5m.\n",
        "\n",
        "Then we recompute the _camera_ matrix and project our original point onto the image plane of the moved camera.  We see that the u-coordinate has decreased as we would expect - when we move our head to the right the world appears to move to the left."
      ]
    },
    {
      "cell_type": "code",
      "execution_count": 14,
      "metadata": {
        "id": "iO-JWuPbqL57"
      },
      "outputs": [
        {
          "data": {
            "text/plain": [
              "array([[580.],\n",
              "       [180.]])"
            ]
          },
          "execution_count": 14,
          "metadata": {},
          "output_type": "execute_result"
        }
      ],
      "source": [
        "X[0,0] = 0.5\n",
        "C = K @ P0 @ X\n",
        "h2e( C @ e2h(P) )"
      ]
    },
    {
      "cell_type": "markdown",
      "metadata": {
        "id": "Sf9guXAwqL58"
      },
      "source": [
        "# Using the Toolbox CentralCamera class\n",
        "\n"
      ]
    },
    {
      "cell_type": "code",
      "execution_count": 15,
      "metadata": {
        "id": "2R2xF8sEqL58"
      },
      "outputs": [
        {
          "name": "stdout",
          "output_type": "stream",
          "text": [
            "           Name: perspective [CentralCamera]\n",
            "     pixel size: 9.999999999999999e-06 x 9.999999999999999e-06\n",
            "     image size: 1000 x 1000\n",
            "           pose: t = 0, 0, 0; rpy/yxz = 0°, 0°, 0°\n",
            "   principal pt: [500. 500.]\n",
            "   focal length: [0.008 0.008]\n",
            "\n"
          ]
        }
      ],
      "source": [
        "camera = mvtb.CentralCamera(f=f, rho=rho, pp=(u0, v0), imagesize=1000)\n",
        "print(camera)"
      ]
    },
    {
      "cell_type": "markdown",
      "metadata": {
        "id": "CKqgw5g9qL59"
      },
      "source": [
        "We can very conveniently project points to the image plane"
      ]
    },
    {
      "cell_type": "code",
      "execution_count": 16,
      "metadata": {
        "id": "_gpp59AHqL59"
      },
      "outputs": [
        {
          "data": {
            "text/plain": [
              "array([[660.],\n",
              "       [180.]])"
            ]
          },
          "execution_count": 16,
          "metadata": {},
          "output_type": "execute_result"
        }
      ],
      "source": [
        "camera.project_point(P)"
      ]
    },
    {
      "cell_type": "markdown",
      "metadata": {
        "id": "g3_Ua5prqL5-"
      },
      "source": [
        "and we can plot it on a virtual image plane conveniently by"
      ]
    },
    {
      "cell_type": "code",
      "execution_count": 17,
      "metadata": {
        "id": "ohx0aJvRqL5_"
      },
      "outputs": [
        {
          "data": {
            "image/png": "[encoded data removed]",
            "text/plain": [
              "<Figure size 640x480 with 1 Axes>"
            ]
          },
          "metadata": {},
          "output_type": "display_data"
        },
        {
          "data": {
            "text/plain": [
              "array([[660.],\n",
              "       [180.]])"
            ]
          },
          "execution_count": 17,
          "metadata": {},
          "output_type": "execute_result"
        }
      ],
      "source": [
        "camera.plot_point(P)"
      ]
    },
    {
      "cell_type": "markdown",
      "metadata": {
        "id": "R-zF3RX9qL6A"
      },
      "source": [
        "We can project the same point, but this time with the camera moved 0.6m in the x-direction"
      ]
    },
    {
      "cell_type": "code",
      "execution_count": 18,
      "metadata": {
        "id": "PkMqgei-qL6B"
      },
      "outputs": [
        {
          "data": {
            "text/plain": [
              "array([[564.],\n",
              "       [180.]])"
            ]
          },
          "execution_count": 18,
          "metadata": {},
          "output_type": "execute_result"
        }
      ],
      "source": [
        "camera.project_point(P, pose=SE3(0.6, 0, 0))"
      ]
    },
    {
      "cell_type": "markdown",
      "metadata": {
        "id": "HN8vg4pDqL6D"
      },
      "source": [
        "and we see that the u-coordinate has decreased.  If we look out along the camera's principal axis then moving the camera to the right causes the image plane point to move to the left.  Note that the vertical coordinate hasn't changed -- as expected.\n",
        "\n",
        "We can extract the intrinsic matrix"
      ]
    },
    {
      "cell_type": "code",
      "execution_count": 19,
      "metadata": {
        "id": "l8bKcrphqL6G"
      },
      "outputs": [
        {
          "data": {
            "text/plain": [
              "array([[800.,   0., 500.],\n",
              "       [  0., 800., 500.],\n",
              "       [  0.,   0.,   1.]])"
            ]
          },
          "execution_count": 19,
          "metadata": {},
          "output_type": "execute_result"
        }
      ],
      "source": [
        "camera.K"
      ]
    },
    {
      "cell_type": "markdown",
      "metadata": {
        "id": "m_9Kqb8jqL6H"
      },
      "source": [
        "and the camera matrix"
      ]
    },
    {
      "cell_type": "code",
      "execution_count": 20,
      "metadata": {
        "id": "yJiJ1RVDqL6I"
      },
      "outputs": [
        {
          "data": {
            "text/plain": [
              "array([[800.,   0., 500.,   0.],\n",
              "       [  0., 800., 500.,   0.],\n",
              "       [  0.,   0.,   1.,   0.]])"
            ]
          },
          "execution_count": 20,
          "metadata": {},
          "output_type": "execute_result"
        }
      ],
      "source": [
        "camera.C()"
      ]
    }
  ],
  "metadata": {
    "colab": {
      "name": "camera.ipynb",
      "provenance": []
    },
    "kernelspec": {
      "display_name": "Python 3",
      "language": "python",
      "name": "python3"
    },
    "language_info": {
      "codemirror_mode": {
        "name": "ipython",
        "version": 3
      },
      "file_extension": ".py",
      "mimetype": "text/x-python",
      "name": "python",
      "nbconvert_exporter": "python",
      "pygments_lexer": "ipython3",
      "version": "3.10.12"
    },
    "varInspector": {
      "cols": {
        "lenName": 16,
        "lenType": 16,
        "lenVar": 40
      },
      "kernels_config": {
        "python": {
          "delete_cmd_postfix": "",
          "delete_cmd_prefix": "del ",
          "library": "var_list.py",
          "varRefreshCmd": "print(var_dic_list())"
        },
        "r": {
          "delete_cmd_postfix": ") ",
          "delete_cmd_prefix": "rm(",
          "library": "var_list.r",
          "varRefreshCmd": "cat(var_dic_list()) "
        }
      },
      "types_to_exclude": [
        "module",
        "function",
        "builtin_function_or_method",
        "instance",
        "_Feature"
      ],
      "window_display": false
    }
  },
  "nbformat": 4,
  "nbformat_minor": 0
}
