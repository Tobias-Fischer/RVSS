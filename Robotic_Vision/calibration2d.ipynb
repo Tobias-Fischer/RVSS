{
 "cells": [
  {
   "cell_type": "markdown",
   "metadata": {},
   "source": [
    "<table>\n",
    "  <tr>\n",
    "    <td><img src=\"https://github.com/rvss-australia/RVSS/blob/main/Pics/RVSS-logo-col.med.jpg?raw=1\" width=\"400\"></td>\n",
    "    <td><div align=\"left\"><font size=\"30\">Camera Calibration using 2D images</font></div></td>\n",
    "  </tr>\n",
    "</table>\n",
    "\n",
    "(c) Peter Corke 2024\n",
    "\n",
    "Robotics, Vision & Control: Python, see section 13.2.2"
   ]
  },
  {
   "cell_type": "code",
   "execution_count": null,
   "metadata": {},
   "outputs": [],
   "source": [
    "try:\n",
    "    import google.colab\n",
    "    print('Running on CoLab')\n",
    "    !pip install matplotlib\n",
    "    !pip install machinevision-toolbox-python\n",
    "    COLAB = True\n",
    "except:\n",
    "    COLAB = False\n",
    "\n",
    "from machinevisiontoolbox import *\n",
    "import numpy as np\n",
    "np.set_printoptions(linewidth=120, formatter={'float': lambda x: f\"{x:8.4g}\" if abs(x) > 1e-10 else f\"{0:8.4g}\"})"
   ]
  },
  {
   "cell_type": "markdown",
   "metadata": {},
   "source": [
    "The calibration process simply requires a set of images, that contain a chequerboard of known dimensions, shown in various orientations and distance from the camera.\n",
    "\n",
    "We start by loading a set of camera calibration images distributed with the toolbox, and display them"
   ]
  },
  {
   "cell_type": "code",
   "execution_count": null,
   "metadata": {},
   "outputs": [],
   "source": [
    "images = ImageCollection(\"calibration/*.jpg\");\n",
    "Image.Tile(images).disp()\n",
    "len(images)"
   ]
  },
  {
   "cell_type": "markdown",
   "metadata": {},
   "source": [
    "OpenCV provides a function to automatically find the chequerboards.  Given the size of each square, 25mm in this case, we can estimate the camera intrinsic parameters and the lens distortion model parameters"
   ]
  },
  {
   "cell_type": "code",
   "execution_count": null,
   "metadata": {},
   "outputs": [],
   "source": [
    "K, distortion, frames = CentralCamera.images2C(images, gridshape=(7,6), squaresize=25e-3)"
   ]
  },
  {
   "cell_type": "markdown",
   "metadata": {},
   "source": [
    "The camera intrinsic matrix is"
   ]
  },
  {
   "cell_type": "code",
   "execution_count": null,
   "metadata": {},
   "outputs": [],
   "source": [
    "K"
   ]
  },
  {
   "cell_type": "markdown",
   "metadata": {},
   "source": [
    "The image centre is given by the top two numbers in the right-hand column"
   ]
  },
  {
   "cell_type": "markdown",
   "metadata": {},
   "source": [
    "which we can compare to the coordinates of the centre pixel of the image"
   ]
  },
  {
   "cell_type": "code",
   "execution_count": null,
   "metadata": {},
   "outputs": [],
   "source": [
    "print(images[0].centre)"
   ]
  },
  {
   "cell_type": "markdown",
   "metadata": {},
   "source": [
    "They are somewhat different, and that tells us that the optical axis of the camera does not pass through the middle pixel of the image.  That's never a good assumption.\n",
    "\n",
    "We can also plot the estimated pose of the camera, relative to the chequerboard, for each image in the input sequence."
   ]
  },
  {
   "cell_type": "code",
   "execution_count": null,
   "metadata": {},
   "outputs": [],
   "source": [
    "for frame in frames:\n",
    "  CentralCamera.plot(pose=frame.pose, scale=0.05)\n",
    "\n",
    "ax = plt.gca()\n",
    "ax.set_xlim(-0.2, 0.4)\n",
    "ax.set_ylim(-0.2, 0.4)\n",
    "ax.set_zlim(-0.6, 0)"
   ]
  },
  {
   "cell_type": "markdown",
   "metadata": {},
   "source": [
    "Now let's look at the estimated distortion data.  The first three numbers are the coefficients of the radial distortion polynomial, while the last two numbers are the coefficients of the tangential distortion polynomial."
   ]
  },
  {
   "cell_type": "code",
   "execution_count": null,
   "metadata": {},
   "outputs": [],
   "source": [
    "distortion"
   ]
  },
  {
   "cell_type": "markdown",
   "metadata": {},
   "source": [
    "We will unpack the camera parameters and distortion coefficients into scalar variables to make the following code easier to follow"
   ]
  },
  {
   "cell_type": "code",
   "execution_count": null,
   "metadata": {},
   "outputs": [],
   "source": [
    "u0 = K[0, 2]; v0 = K[1, 2]; fpix_u = K[0, 0]; fpix_v = K[1,1];\n",
    "k1, k2, p1, p2, k3 = distortion;"
   ]
  },
  {
   "cell_type": "markdown",
   "metadata": {},
   "source": [
    "We choose to make the resulting undistorted image the same size as the input images."
   ]
  },
  {
   "cell_type": "code",
   "execution_count": null,
   "metadata": {},
   "outputs": [],
   "source": [
    "U, V = images[12].meshgrid()"
   ]
  },
  {
   "cell_type": "markdown",
   "metadata": {},
   "source": [
    "the matrices `U` and `V` are coordinate matrices.  They have the same dimensions as the image used to create them, and for any pixel coordinate `(u,v)` the coordinate matrices are such that `U[v,u]=u` and `V[v,u]=v`"
   ]
  },
  {
   "cell_type": "code",
   "execution_count": null,
   "metadata": {},
   "outputs": [],
   "source": [
    "print(U[100,200], V[100,200])"
   ]
  },
  {
   "cell_type": "markdown",
   "metadata": {},
   "source": [
    "we convert the image coordinates to retinal image-plane coordinates, in units of metres with respect to the camera's principal point"
   ]
  },
  {
   "cell_type": "code",
   "execution_count": null,
   "metadata": {},
   "outputs": [],
   "source": [
    "u = (U - u0) / fpix_u;\n",
    "v = (V - v0) / fpix_v;"
   ]
  },
  {
   "cell_type": "markdown",
   "metadata": {},
   "source": [
    "The radial distance of the pixels from the principal point is simply the Euclidean distance"
   ]
  },
  {
   "cell_type": "code",
   "execution_count": null,
   "metadata": {},
   "outputs": [],
   "source": [
    "r = np.sqrt(u**2 + v**2);"
   ]
  },
  {
   "cell_type": "markdown",
   "metadata": {},
   "source": [
    "and the restinal coordinate errors due to distortion are given by (13.15) in Robotics, Vision & Control: Python"
   ]
  },
  {
   "cell_type": "code",
   "execution_count": null,
   "metadata": {},
   "outputs": [],
   "source": [
    "delta_u = u * (k1*r**2 + k2*r**4 + k3*r**6) + p1*u*v + p2*(r**2 + 2*u**2);\n",
    "delta_v = v * (k1*r**2 + k2*r**4 + k3*r**6) + p1*(r**2 + 2*v**2) + p2*u*v;"
   ]
  },
  {
   "cell_type": "markdown",
   "metadata": {},
   "source": [
    "So the undistorted coordinates are"
   ]
  },
  {
   "cell_type": "code",
   "execution_count": null,
   "metadata": {},
   "outputs": [],
   "source": [
    "ud = u + delta_u; vd = v + delta_v;"
   ]
  },
  {
   "cell_type": "markdown",
   "metadata": {},
   "source": [
    "and we convert those back to image plane coordinates"
   ]
  },
  {
   "cell_type": "code",
   "execution_count": null,
   "metadata": {},
   "outputs": [],
   "source": [
    "Ud = ud * fpix_u + u0;\n",
    "Vd = vd * fpix_v + v0;"
   ]
  },
  {
   "cell_type": "markdown",
   "metadata": {},
   "source": [
    "Now `Ud[v,u]` and `Vd[v,u]` are the distorted coordinates of the point `(u,v)` and we can use this to warp the image to correct the distortion"
   ]
  },
  {
   "cell_type": "code",
   "execution_count": null,
   "metadata": {},
   "outputs": [],
   "source": [
    "undistorted = images[12].warp(Ud, Vd)\n",
    "\n",
    "Image.Hstack((images[12], undistorted)).disp()"
   ]
  },
  {
   "cell_type": "markdown",
   "metadata": {},
   "source": [
    "In the side-by-side comparison we can see that the edges of, and lines on, the chequerboard have become straighter.\n",
    "\n",
    "Another way to visually represent the image distortion is to show how $(\\delta_u, \\delta_v)$ changes as a function of $(u,v)$"
   ]
  },
  {
   "cell_type": "code",
   "execution_count": null,
   "metadata": {},
   "outputs": [],
   "source": [
    "plt.clf()   # clear 3D plot\n",
    "plt.quiver(Ud[::50, ::50], Vd[::50, ::50], -delta_u[::50, ::50], -delta_v[::50, ::50]);"
   ]
  },
  {
   "cell_type": "markdown",
   "metadata": {},
   "source": [
    "which shows a pattern consistent with barrel distortion"
   ]
  }
 ],
 "metadata": {
  "kernelspec": {
   "display_name": "Python 3",
   "language": "python",
   "name": "python3"
  },
  "language_info": {
   "codemirror_mode": {
    "name": "ipython",
    "version": 3
   },
   "file_extension": ".py",
   "mimetype": "text/x-python",
   "name": "python",
   "nbconvert_exporter": "python",
   "pygments_lexer": "ipython3",
   "version": "3.10.12"
  }
 },
 "nbformat": 4,
 "nbformat_minor": 2
}
