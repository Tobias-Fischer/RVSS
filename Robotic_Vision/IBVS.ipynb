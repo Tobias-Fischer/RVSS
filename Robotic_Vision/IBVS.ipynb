{
 "cells": [
  {
   "cell_type": "markdown",
   "metadata": {},
   "source": [
    "<table>\n",
    "  <tr>\n",
    "    <td><div align=\"left\"><font size=\"30\">Image-based Visual Servo</font></div></td>\n",
    "    <td><img src=\"https://github.com/Tobias-Fischer/RVSS2022/blob/main/Robotic_Vision/common/RVSS-logo.png?raw=1\" width=\"400\"></td>\n",
    "  </tr>\n",
    "</table>"
   ]
  },
  {
   "cell_type": "markdown",
   "metadata": {},
   "source": [
    "We need to import some modules. We will use the standard `numpy` package to help us with linear algebraic operations on matrices and vectors."
   ]
  },
  {
   "cell_type": "code",
   "execution_count": 37,
   "metadata": {},
   "outputs": [],
   "source": [
    "import numpy as np\n",
    "import math\n",
    "\n",
    "%matplotlib inline\n",
    "\n",
    "np.set_printoptions(linewidth=120, formatter={'float': lambda x: f\"{x:8.4g}\" if abs(x) > 1e-10 else f\"{0:8.4g}\"})\n",
    "from machinevisiontoolbox import Image, CentralCamera\n",
    "from spatialmath import base, SE3\n",
    "\n",
    "import matplotlib.pyplot as plt\n",
    "from matplotlib.animation import FuncAnimation\n",
    "from mpl_toolkits.mplot3d import Axes3D, art3d\n",
    "from mpl_toolkits.mplot3d.art3d import Poly3DCollection"
   ]
  },
  {
   "cell_type": "markdown",
   "metadata": {},
   "source": [
    "***\n",
    "We will define the coordinates of the three vertices of an equilateral triangle, as columns of a matrix"
   ]
  },
  {
   "cell_type": "code",
   "execution_count": 9,
   "metadata": {},
   "outputs": [
    {
     "data": {
      "text/plain": [
       "array([[      -1,        1,        0],\n",
       "       [       0,        0,    1.732],\n",
       "       [       5,        5,        5]])"
      ]
     },
     "execution_count": 9,
     "metadata": {},
     "output_type": "execute_result"
    }
   ],
   "source": [
    "P = np.array([  [-1, 0,            5],\n",
    "                [ 1, 0,            5],\n",
    "                [ 0, math.sqrt(3), 5]]).T\n",
    "P"
   ]
  },
  {
   "cell_type": "markdown",
   "metadata": {},
   "source": [
    "Instantiate a projective camera object, centred at the origin and viewing parallel to the world frame z-axis"
   ]
  },
  {
   "cell_type": "code",
   "execution_count": 10,
   "metadata": {},
   "outputs": [],
   "source": [
    "camera = CentralCamera.Default()"
   ]
  },
  {
   "cell_type": "markdown",
   "metadata": {},
   "source": [
    "Now we can project the triangle vertex points to the image plane"
   ]
  },
  {
   "cell_type": "code",
   "execution_count": 11,
   "metadata": {},
   "outputs": [
    {
     "data": {
      "text/plain": [
       "array([[     340,      660,      500],\n",
       "       [     500,      500,    777.1]])"
      ]
     },
     "execution_count": 11,
     "metadata": {},
     "output_type": "execute_result"
    }
   ],
   "source": [
    "p = camera.project_point(P)\n",
    "p"
   ]
  },
  {
   "cell_type": "markdown",
   "metadata": {},
   "source": [
    "the result is a matrix with one column for each image plane point for the world point in the corresponding column  (in units of pixels)"
   ]
  },
  {
   "cell_type": "code",
   "execution_count": 12,
   "metadata": {
    "code_folding": [],
    "tags": [
     "hide_input"
    ]
   },
   "outputs": [
    {
     "data": {
      "image/png": "[encoded data removed]",
      "text/plain": [
       "<Figure size 432x288 with 1 Axes>"
      ]
     },
     "metadata": {
      "needs_background": "light"
     },
     "output_type": "display_data"
    }
   ],
   "source": [
    "# setup the plot\n",
    "plt.figure()\n",
    "ax = plt.gca()\n",
    "plt.grid(True)\n",
    "ax.set_aspect('equal')\n",
    "ax.set_facecolor('yellow')\n",
    "plt.xlabel('u (pixels)')\n",
    "plt.ylabel('v (pixels)')\n",
    "plt.title('Camera image plane')\n",
    "plt.xlim(0, 1000)\n",
    "ax.set_ylim(1000, 0)  # inverted y-axis\n",
    "\n",
    "plt.plot(p[0,:], p[1,:], 'o');\n"
   ]
  },
  {
   "cell_type": "markdown",
   "metadata": {},
   "source": [
    "Now, we want the image-plane points to be somewhere else, let's choose the goal image plane coordinates"
   ]
  },
  {
   "cell_type": "code",
   "execution_count": 13,
   "metadata": {},
   "outputs": [
    {
     "data": {
      "image/png": "[encoded data removed]",
      "text/plain": [
       "<Figure size 432x288 with 1 Axes>"
      ]
     },
     "metadata": {
      "needs_background": "light"
     },
     "output_type": "display_data"
    }
   ],
   "source": [
    "pstar = np.array( [\n",
    "    [100,   100],\n",
    "    [900,   180],\n",
    "    [500,   870] ]).T\n",
    "\n",
    "plt.figure()\n",
    "ax = plt.gca()\n",
    "plt.grid(True)\n",
    "ax.set_aspect('equal')\n",
    "ax.set_facecolor('yellow')\n",
    "plt.xlabel('u (pixels)')\n",
    "plt.ylabel('v (pixels)')\n",
    "plt.title('Camera image plane')\n",
    "plt.xlim(0, 1000)\n",
    "ax.set_ylim(1000, 0)  # inverted y-axis\n",
    "\n",
    "plt.plot(p[0,:], p[1,:], 'o');\n",
    "plt.plot(pstar[0,:], pstar[1,:], 'r*', markersize=16);\n",
    "plt.show()"
   ]
  },
  {
   "cell_type": "markdown",
   "metadata": {},
   "source": [
    "The error, between where the vertices are, and where we want them is simply"
   ]
  },
  {
   "cell_type": "code",
   "execution_count": 14,
   "metadata": {},
   "outputs": [
    {
     "name": "stdout",
     "output_type": "stream",
     "text": [
      "[[    -240      240        0]\n",
      " [    -400     -320    92.87]]\n"
     ]
    }
   ],
   "source": [
    "e = pstar - p\n",
    "print(e)"
   ]
  },
  {
   "cell_type": "markdown",
   "metadata": {},
   "source": [
    "we can plot the actual image-plane positions, the desired image-plane positions and the error vectors on the one plot"
   ]
  },
  {
   "cell_type": "code",
   "execution_count": 15,
   "metadata": {},
   "outputs": [
    {
     "data": {
      "text/plain": [
       "<Figure size 432x288 with 0 Axes>"
      ]
     },
     "metadata": {},
     "output_type": "display_data"
    },
    {
     "data": {
      "image/png": "[encoded data removed]",
      "text/plain": [
       "<Figure size 432x288 with 1 Axes>"
      ]
     },
     "metadata": {
      "needs_background": "light"
     },
     "output_type": "display_data"
    }
   ],
   "source": [
    "plt.clf()\n",
    "plt.figure()\n",
    "ax = plt.gca()\n",
    "plt.grid(True)\n",
    "ax.set_aspect('equal')\n",
    "ax.set_facecolor('yellow')\n",
    "plt.xlabel('u (pixels)')\n",
    "plt.ylabel('v (pixels)')\n",
    "plt.title('Camera image plane')\n",
    "plt.xlim(0, 1000)\n",
    "ax.set_ylim(1000, 0)  # inverted y-axis\n",
    "\n",
    "plt.plot(p[0,:], p[1,:], 'o')\n",
    "plt.plot(pstar[0,:], pstar[1,:], 'r*', markersize=16)\n",
    "\n",
    "for a,b in zip(p.T, e.T):\n",
    "    plt.arrow(a[0], a[1], b[0], b[1], head_width=20, zorder=20, length_includes_head=True)"
   ]
  },
  {
   "cell_type": "markdown",
   "metadata": {},
   "source": [
    "The image-plane velocity will be some small multiple of these error vectors"
   ]
  },
  {
   "cell_type": "code",
   "execution_count": 16,
   "metadata": {},
   "outputs": [
    {
     "data": {
      "text/plain": [
       "array([[    -2.4],\n",
       "       [      -4],\n",
       "       [     2.4],\n",
       "       [    -3.2],\n",
       "       [       0],\n",
       "       [  0.9287]])"
      ]
     },
     "execution_count": 16,
     "metadata": {},
     "output_type": "execute_result"
    }
   ],
   "source": [
    "pdot_star = 0.01 * e.reshape((-1,1), order='F')  # turn e into a column vector with row-major ordering\n",
    "pdot_star"
   ]
  },
  {
   "cell_type": "markdown",
   "metadata": {},
   "source": [
    "Now we can create a Jacobian matrix for the 3 points, this is a vertical stack of the $2 \\times 6$ Jacobian matrices, resulting in a $6 \\times 6$ matrix. `visjac` does this automatically, given N points, it will return a $2N \\times 6$ Jacobian matrix.  We do need to provide an estimate of the distance to the points, here that is set to 3m for all the points.  See `Camera.visjac?` for more details."
   ]
  },
  {
   "cell_type": "code",
   "execution_count": 17,
   "metadata": {},
   "outputs": [
    {
     "name": "stdout",
     "output_type": "stream",
     "text": [
      "[[  -266.7        0   -53.33        0     -832        0]\n",
      " [       0   -266.7        0      800        0      160]\n",
      " [  -266.7        0    53.33        0     -832        0]\n",
      " [       0   -266.7        0      800        0     -160]\n",
      " [  -266.7        0        0        0     -800    277.1]\n",
      " [       0   -266.7    92.38      896        0        0]]\n"
     ]
    }
   ],
   "source": [
    "Jp = camera.visjac_p(p, 3)\n",
    "print(Jp.round(2))"
   ]
  },
  {
   "cell_type": "markdown",
   "metadata": {},
   "source": [
    "Now we invert the relationship from camera velocity to image plane, to solve for the camera velocity required given the desired image plane velocity."
   ]
  },
  {
   "cell_type": "code",
   "execution_count": 18,
   "metadata": {},
   "outputs": [
    {
     "data": {
      "text/plain": [
       "array([[-0.06755],\n",
       "       [ 0.02512],\n",
       "       [   0.045],\n",
       "       [0.003873],\n",
       "       [ 0.02165],\n",
       "       [ -0.0025]])"
      ]
     },
     "execution_count": 18,
     "metadata": {},
     "output_type": "execute_result"
    }
   ],
   "source": [
    "vcam = np.linalg.inv(Jp) @ pdot_star\n",
    "vcam"
   ]
  },
  {
   "cell_type": "markdown",
   "metadata": {},
   "source": [
    "which is the velocity the camera must have in 3D space in order to move the image to be more like that shown with the stars.  The motion is predominantly in the camera x-direction as well as some rotation about the camera's y-axis.\n",
    "\n",
    "We define an IBVS visual servo control function, this computes the control given the camera pose (the pose attribute of the camera object) and the desired image plane points."
   ]
  },
  {
   "cell_type": "code",
   "execution_count": 64,
   "metadata": {
    "code_folding": []
   },
   "outputs": [],
   "source": [
    "vmax = 0.2  # maximum norm of camera velocity\n",
    "dt = 1   # time step\n",
    "\n",
    "def IBVS(camera, P, pstar, lam=1, Z=5):\n",
    "    p = camera.project_point(P)\n",
    "    e = pstar - p\n",
    "    pdot_star = lam * e.flatten(order='F')\n",
    "    Jp = camera.visjac_p(p, Z)\n",
    "    \n",
    "    # limit speed of motion\n",
    "    vcam = np.linalg.inv(Jp) @ pdot_star\n",
    "    vn = np.linalg.norm(vcam)\n",
    "    if vn > vmax:\n",
    "        vcam = vcam / vn * vmax\n",
    "    \n",
    "    # update camera pose, we use matrix exponential to convert velocity screw to SE(3) increment\n",
    "    camera.pose @= SE3.Delta(vcam * dt) \n",
    "    \n",
    "    return vcam, np.linalg.norm(e), p"
   ]
  },
  {
   "cell_type": "markdown",
   "metadata": {},
   "source": [
    "We need to call this function repeatedly to see how the camera pose evolves over time.  \n",
    "\n",
    "Sorry, too hard to make cool graphics that work on CoLab :("
   ]
  },
  {
   "cell_type": "code",
   "execution_count": 69,
   "metadata": {
    "code_folding": []
   },
   "outputs": [],
   "source": [
    "# the camera starts at the origin, with its optical axis parallel to the world z-axis\n",
    "camera = CentralCamera.Default()\n",
    "P = np.array([  [-1, 0,            5],\n",
    "                [ 1, 0,            5],\n",
    "                [ 0, math.sqrt(3), 5]]).T\n",
    "pstar = np.array( [\n",
    "                  [100,   100],\n",
    "                  [900,   180],\n",
    "                  [500,   870] ]).T\n",
    "\n",
    "# Set parameters for pose updating\n",
    "\n",
    "Z = 5       # use fixed value of Z\n",
    "lam = 0.2   # scalar gain\n",
    "\n",
    "pose_history = SE3.Empty()\n",
    "enorm_history = []\n",
    "p_history = []\n",
    "for i in range(50):\n",
    "    vel, enorm, p = vservo(camera, P, pstar, lam=lam)\n",
    "    # print(enorm, camera.pose.strline(), vel.T)\n",
    "\n",
    "    # save results for later\n",
    "    pose_history.append(camera.pose)\n",
    "    enorm_history.append(enorm)\n",
    "    p_history.append(p)"
   ]
  },
  {
   "cell_type": "markdown",
   "metadata": {},
   "source": [
    "OK, that wasn't very exciting, let's see what happened.\n",
    "\n",
    "Firstly, we will see how the points moved on the image plane of the camera (which is moving)"
   ]
  },
  {
   "cell_type": "code",
   "execution_count": 75,
   "metadata": {},
   "outputs": [
    {
     "data": {
      "image/png": "[encoded data removed]",
      "text/plain": [
       "<Figure size 432x288 with 1 Axes>"
      ]
     },
     "metadata": {
      "needs_background": "light"
     },
     "output_type": "display_data"
    }
   ],
   "source": [
    "plt.figure()\n",
    "plt.plot(pstar[0,:], pstar[1,:], 'r*', markersize=16);\n",
    "plt.xlabel('X')\n",
    "plt.ylabel('Y')\n",
    "plt.grid(True)\n",
    "for p in p_history:\n",
    "    plt.plot(p[0, :], p[1, :], 'k.', markersize=6)"
   ]
  },
  {
   "cell_type": "markdown",
   "metadata": {},
   "source": [
    "Here's how the camera moved.  We see that the camera has moved upward (positive z-axis motion)"
   ]
  },
  {
   "cell_type": "code",
   "execution_count": 71,
   "metadata": {},
   "outputs": [
    {
     "data": {
      "image/png": "[encoded data removed]",
      "text/plain": [
       "<Figure size 432x288 with 1 Axes>"
      ]
     },
     "metadata": {
      "needs_background": "light"
     },
     "output_type": "display_data"
    }
   ],
   "source": [
    "plt.plot(pose_history.t)\n",
    "plt.legend(list(\"XYZ\"))\n",
    "plt.xlabel('time step')\n",
    "plt.grid(True)"
   ]
  },
  {
   "cell_type": "markdown",
   "metadata": {},
   "source": [
    "Finally, here's the error norm, which has converged to zero.  It is monotonic, but not exponential decay."
   ]
  },
  {
   "cell_type": "code",
   "execution_count": 76,
   "metadata": {},
   "outputs": [
    {
     "data": {
      "image/png": "[encoded data removed]",
      "text/plain": [
       "<Figure size 432x288 with 1 Axes>"
      ]
     },
     "metadata": {
      "needs_background": "light"
     },
     "output_type": "display_data"
    }
   ],
   "source": [
    "plt.plot(enorm_history)\n",
    "plt.xlabel('time step')\n",
    "plt.ylabel('$\\|e\\|$')\n",
    "plt.grid(True)"
   ]
  },
  {
   "cell_type": "markdown",
   "metadata": {},
   "source": [
    "You can experiment with this in various ways:\n",
    "* change the gain\n",
    "* change the initial position of the camera\n",
    "* servo to more than 3 points. In this case the Jacobian will be non-square so you will have to use the pseudo inverse\n",
    "* change the assumed distance of the target"
   ]
  },
  {
   "cell_type": "code",
   "execution_count": null,
   "metadata": {},
   "outputs": [],
   "source": []
  }
 ],
 "metadata": {
  "kernelspec": {
   "display_name": "Python 3",
   "language": "python",
   "name": "python3"
  },
  "language_info": {
   "codemirror_mode": {
    "name": "ipython",
    "version": 3
   },
   "file_extension": ".py",
   "mimetype": "text/x-python",
   "name": "python",
   "nbconvert_exporter": "python",
   "pygments_lexer": "ipython3",
   "version": "3.8.5"
  },
  "toc": {
   "base_numbering": 1,
   "nav_menu": {},
   "number_sections": true,
   "sideBar": true,
   "skip_h1_title": false,
   "title_cell": "Table of Contents",
   "title_sidebar": "Contents",
   "toc_cell": false,
   "toc_position": {},
   "toc_section_display": true,
   "toc_window_display": false
  },
  "varInspector": {
   "cols": {
    "lenName": 16,
    "lenType": 16,
    "lenVar": 40
   },
   "kernels_config": {
    "python": {
     "delete_cmd_postfix": "",
     "delete_cmd_prefix": "del ",
     "library": "var_list.py",
     "varRefreshCmd": "print(var_dic_list())"
    },
    "r": {
     "delete_cmd_postfix": ") ",
     "delete_cmd_prefix": "rm(",
     "library": "var_list.r",
     "varRefreshCmd": "cat(var_dic_list()) "
    }
   },
   "position": {
    "height": "335px",
    "left": "752px",
    "right": "20px",
    "top": "120px",
    "width": "349px"
   },
   "types_to_exclude": [
    "module",
    "function",
    "builtin_function_or_method",
    "instance",
    "_Feature"
   ],
   "window_display": false
  }
 },
 "nbformat": 4,
 "nbformat_minor": 2
}
