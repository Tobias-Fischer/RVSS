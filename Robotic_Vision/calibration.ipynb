{
 "cells": [
  {
   "cell_type": "markdown",
   "metadata": {},
   "source": [
    "<table>\n",
    "  <tr>\n",
    "    <td><img src=\"./common/RVSS-logo.png\" width=\"400\"></td>\n",
    "    <td><div align=\"left\"><font size=\"30\">Camera Calibration</font></div></td>\n",
    "  </tr>\n",
    "</table>"
   ]
  },
  {
   "cell_type": "markdown",
   "metadata": {},
   "source": [
    "$\\renewcommand{\\vec}[1]{{\\mathbf{\\boldsymbol{{#1}}}}}$\n",
    "$\\newcommand{\\mat}[1]{{\\mathbf{\\boldsymbol{{#1}}}}}$"
   ]
  },
  {
   "cell_type": "code",
   "execution_count": 50,
   "metadata": {},
   "outputs": [],
   "source": [
    "%matplotlib inline\n",
    "\n",
    "import matplotlib\n",
    "import ipywidgets as wdg\n",
    "\n",
    "from machinevisiontoolbox import Image, CentralCamera\n",
    "import matplotlib.pyplot as plt\n",
    "import numpy as np\n",
    "from spatialmath import SE3, SO3\n",
    "from spatialmath import base\n",
    "\n",
    "from unknown_camera import CreateUnknownCamera\n",
    "\n",
    "np.set_printoptions(linewidth=120, formatter={'float': lambda x: f\"{x:8.4g}\" if abs(x) > 1e-10 else f\"{0:8.4g}\"})"
   ]
  },
  {
   "cell_type": "markdown",
   "metadata": {},
   "source": [
    "In this notebook we are going to investigate how we can calibrate a camera to determine the camera's intrinsic and extrinsic parameters. When we calibrate a camera we take an image of a calibration rig and associate certain points/features within that image to real-world coordinates. We can then determine the camera parameters using an optimisation method, for example least-squares.  \n",
    "\n",
    "Before we dive into real-world data we are going to create a situation where we know the camera parameters, the real-world points and where these points would lie if an image was taken from a specific pose."
   ]
  },
  {
   "cell_type": "markdown",
   "metadata": {},
   "source": [
    "# Calibration Rig\n",
    "\n",
    "We will be using data for the following calibration rig which consists of 12 dots forming three 6cm squares on three planes. We will store the real-world 3D coordinates that reflect the markers on the calibration target in the matrix `P_calib`. We will be using `P_calib` throughout this coding session.\n",
    "\n",
    "![calibration](common/calibration-fixture.png)"
   ]
  },
  {
   "cell_type": "code",
   "execution_count": 51,
   "metadata": {},
   "outputs": [],
   "source": [
    "cm = 0.01 # centimetre to metre conversion factor\n",
    "\n",
    "P_calib = np.array([\n",
    "    [ 0,  -12.2, 12.2],\n",
    "    [ 0,   -6.2, 12.2],\n",
    "    [ 0,  -12.2,  6.2],\n",
    "    [ 0,   -6.2,  6.2],\n",
    "    [ 6.2,  0,   12.2],\n",
    "    [12.2,  0,   12.2],\n",
    "    [ 6.2,  0,    6.2],\n",
    "    [12.2,  0,    6.2]\n",
    "]).T * cm"
   ]
  },
  {
   "cell_type": "markdown",
   "metadata": {},
   "source": [
    "# Calibrating A Simulated Camera\n",
    "\n",
    "## Simulate a Camera\n",
    "\n",
    "First, we will simulate a black box camera. While we know the pose and chateristics of this camera (you can check them out in the `CreateSimulatedCamera` function, but we will assume we do not and see if we can find the camera extrinsic and intrinsic parameters ourself using simulated calibration data.\n"
   ]
  },
  {
   "cell_type": "code",
   "execution_count": 52,
   "metadata": {},
   "outputs": [
    {
     "data": {
      "text/plain": [
       "           Name: perspective [CentralCamera]\n",
       "     pixel size: 1e-05 x 1e-05\n",
       "     image size: 1280 x 1024\n",
       "           pose: t = 1, -1, 0.01; rpy/yxz = 93.7°, -39.9°, -92.6°\n",
       "   principal pt: [     640      512]\n",
       "   focal length: [   0.015    0.015]"
      ]
     },
     "execution_count": 52,
     "metadata": {},
     "output_type": "execute_result"
    }
   ],
   "source": [
    "unknown_camera = CreateUnknownCamera()\n",
    "unknown_camera"
   ]
  },
  {
   "cell_type": "markdown",
   "metadata": {},
   "source": [
    "The object `unknown_camera` is a model of the camera and was computed using the `CreateCameraModel` function in the `unknown_camera.py` script. For now we will pretend we don't know it's characteristics, and that its pose is unknown with respect to the calibration target.\n",
    "\n",
    "However **we do know** the world coordinates of the markers.\n",
    "\n",
    "We can create an \"artificial\" image of the 3D points by projecting these points onto the 2D image plane within our simulated camera, by using the code below. *We can only do this because we know camera characteristics, as well as the pose of the camera and the locations of the 3D points with respect to the world frame.*"
   ]
  },
  {
   "cell_type": "code",
   "execution_count": 53,
   "metadata": {},
   "outputs": [
    {
     "data": {
      "text/plain": [
       "array([[   669.3,      719,    671.6,    721.1,    815.9,    866.2,      818,    868.3],\n",
       "       [   331.7,    333.6,    399.7,    399.6,    329.5,    323.4,    395.9,    392.1]])"
      ]
     },
     "execution_count": 53,
     "metadata": {},
     "output_type": "execute_result"
    }
   ],
   "source": [
    "p = unknown_camera.project_point(P_calib)\n",
    "p"
   ]
  },
  {
   "cell_type": "markdown",
   "metadata": {},
   "source": [
    "Projecting the 3D coordinates of the calibration target markers onto the  into 2D image plane coordinates using the camera object's `project` method"
   ]
  },
  {
   "cell_type": "code",
   "execution_count": 54,
   "metadata": {},
   "outputs": [
    {
     "data": {
      "image/png": "[encoded data removed]",
      "text/plain": [
       "<Figure size 432x288 with 1 Axes>"
      ]
     },
     "metadata": {
      "needs_background": "light"
     },
     "output_type": "display_data"
    },
    {
     "data": {
      "text/plain": [
       "array([[   669.3,      719,    671.6,    721.1,    815.9,    866.2,      818,    868.3],\n",
       "       [   331.7,    333.6,    399.7,    399.6,    329.5,    323.4,    395.9,    392.1]])"
      ]
     },
     "execution_count": 54,
     "metadata": {},
     "output_type": "execute_result"
    }
   ],
   "source": [
    "unknown_camera.plot_point(P_calib)\n"
   ]
  },
  {
   "cell_type": "markdown",
   "metadata": {},
   "source": [
    "Of course, with real camera calibration these 2D coordinates must be obtained by taking an image and finding the coordinates of the points in the captured image. We will be using a real-image later."
   ]
  },
  {
   "cell_type": "markdown",
   "metadata": {},
   "source": [
    "## Compute the Camera Matrix \n",
    "\n",
    "We can noe compute the camera calibration from the calibration data, the real-world coordinates `P_calib` and the 2D image coordinates `p`.\n",
    "\n",
    " * `P_calib`, is an array of 3D points which is a $3 \\times N$ matrix, one point per column (which would be found by measuring the points in the real-world)\n",
    " * `p`, is an array of 2D points which is a $2 \\times N$ matrix, one point per column (which would be found in the captured image)\n",
    "    \n",
    "Importantly, the points correspond, that is the $i^{th}$ column of `p` is the projection of the 3D point in the $i^{th}$ column of `P_calib`.\n",
    "\n",
    "The camera matrix $\\mathbf{C}$ can be computed by"
   ]
  },
  {
   "cell_type": "code",
   "execution_count": 55,
   "metadata": {},
   "outputs": [
    {
     "data": {
      "text/plain": [
       "3.2173375075217336e-11"
      ]
     },
     "execution_count": 55,
     "metadata": {},
     "output_type": "execute_result"
    }
   ],
   "source": [
    "C, residual = CentralCamera.points2C(P_calib, p)\n",
    "residual"
   ]
  },
  {
   "cell_type": "markdown",
   "metadata": {},
   "source": [
    "the small residual is an encouraging sign, it indicates that the data is a good fit to the projection model of a perspective camera. *This is to expected in this case as we found `p` by projecting the 3D points using our artificial camera model*\n",
    "\n",
    "The value of the camera matrix is"
   ]
  },
  {
   "cell_type": "code",
   "execution_count": 56,
   "metadata": {},
   "outputs": [
    {
     "data": {
      "text/plain": [
       "array([[     336,     1107,   -53.03,    771.6],\n",
       "       [    -274,    180.9,    -1077,    465.7],\n",
       "       [ -0.5442,   0.4555, -0.02477,        1]])"
      ]
     },
     "execution_count": 56,
     "metadata": {},
     "output_type": "execute_result"
    }
   ],
   "source": [
    "C"
   ]
  },
  {
   "cell_type": "markdown",
   "metadata": {},
   "source": [
    "The intrinsic and extrinsic parameters of the camera are jumbled up in these 12 numbers, but we can unjumble them"
   ]
  },
  {
   "cell_type": "code",
   "execution_count": 57,
   "metadata": {},
   "outputs": [
    {
     "data": {
      "text/plain": [
       "           Name: invC [CentralCamera]\n",
       "     pixel size: 1.0 x 1.0000000000003055\n",
       "           pose: t = 1, -1, 0.01; rpy/yxz = 93.7°, -39.9°, -92.6°\n",
       "   principal pt: [     640      512]\n",
       "   focal length: [    1500     1500]"
      ]
     },
     "execution_count": 57,
     "metadata": {},
     "output_type": "execute_result"
    }
   ],
   "source": [
    "camera = CentralCamera.decomposeC(C)\n",
    "camera\n"
   ]
  },
  {
   "cell_type": "markdown",
   "metadata": {},
   "source": [
    "This is a classmethod of the `CentralCamera` class and returns a `CentralCamera` instance with the intrinsic and extrinsic parameters consistent with the camera matrix `C`.\n",
    "\n",
    "**Note:** When computing the camera matrix the focal length and the pixel dimensions are multiplied together, so it's not possible to determine them individually.  This function assumes that the pixel dimension is 1 (this would be metres, so massive pixels!) and the focal length has units of pixels rather than metres (hence the large values)."
   ]
  },
  {
   "cell_type": "markdown",
   "metadata": {},
   "source": [
    "The intrinsic parameters are"
   ]
  },
  {
   "cell_type": "code",
   "execution_count": 58,
   "metadata": {},
   "outputs": [
    {
     "data": {
      "text/plain": [
       "array([[    1500,        0,      640],\n",
       "       [       0,     1500,      512],\n",
       "       [       0,        0,        1]])"
      ]
     },
     "execution_count": 58,
     "metadata": {},
     "output_type": "execute_result"
    }
   ],
   "source": [
    "camera.K"
   ]
  },
  {
   "cell_type": "markdown",
   "metadata": {},
   "source": [
    "Notice that the values in the top left are half image width and height we specified and that focal length (1500) is a factor of the length we provided into the `CreateSimulatedCamera` function. Naturally, because we are passing in exact data then getting back exact values is to be expected.\n",
    "\n",
    "The extrinsic parameters, the pose, of the camera with respect to the world calibration frame, is"
   ]
  },
  {
   "cell_type": "code",
   "execution_count": 59,
   "metadata": {},
   "outputs": [
    {
     "name": "stdout",
     "output_type": "stream",
     "text": [
      "  \u001b[38;5;1m 0.6424  \u001b[0m \u001b[38;5;1m 0.004315\u001b[0m \u001b[38;5;1m-0.7664  \u001b[0m \u001b[38;5;4m 1       \u001b[0m  \u001b[0m\n",
      "  \u001b[38;5;1m 0.7656  \u001b[0m \u001b[38;5;1m-0.04915 \u001b[0m \u001b[38;5;1m 0.6415  \u001b[0m \u001b[38;5;4m-1       \u001b[0m  \u001b[0m\n",
      "  \u001b[38;5;1m-0.0349  \u001b[0m \u001b[38;5;1m-0.9988  \u001b[0m \u001b[38;5;1m-0.03488 \u001b[0m \u001b[38;5;4m 0.01    \u001b[0m  \u001b[0m\n",
      "  \u001b[38;5;244m 0       \u001b[0m \u001b[38;5;244m 0       \u001b[0m \u001b[38;5;244m 0       \u001b[0m \u001b[38;5;244m 1       \u001b[0m  \u001b[0m\n",
      "\n"
     ]
    }
   ],
   "source": [
    "Tcam = camera.pose\n",
    "print(Tcam)"
   ]
  },
  {
   "cell_type": "markdown",
   "metadata": {},
   "source": [
    "This indicates the position of the camera is (1, -1) on the ground plane, and slightly above the ground (z=0.1).\n",
    "\n",
    "The orientation of the camera can be extracted from its SE(3) pose "
   ]
  },
  {
   "cell_type": "code",
   "execution_count": 60,
   "metadata": {},
   "outputs": [
    {
     "data": {
      "text/plain": [
       "array([     -92,        2,       50])"
      ]
     },
     "execution_count": 60,
     "metadata": {},
     "output_type": "execute_result"
    }
   ],
   "source": [
    "rpy = Tcam.rpy(order='zyx', unit='deg')\n",
    "rpy"
   ]
  },
  {
   "cell_type": "markdown",
   "metadata": {},
   "source": [
    "which indicates the orientation of the camera can be described by three consecutive rotations, in the order:\n",
    "\n",
    "1. a rotation of 50° about the z-axis, which points the camera toward the calibration target\n",
    "2. a rotation of 2° about the y-axis, which indicates some imperfection in the calibration process, a small rotation (pan) about the vertical axis\n",
    "3. a rotation of -92° about the x-axis, which makes the camera's z-axis (it's line of sight) approximately parallel to the ground plane, again some imperfection so the camera is actually pointing slightly toward the floor.\n",
    "\n",
    "That is all that is required to determine the camera charateristics. You simply need two sets of points, one from the real-world and one with the corresponding 2D image coordinates, you need at least 6 corresponding points.\n",
    "\n",
    "You can choose to peek at the \"unknown\" camera model in `CreateCameraModel.py` and see that the parameters we have estimated simply from 3D and 2D data points matches the parameters of that camera.\n"
   ]
  },
  {
   "cell_type": "markdown",
   "metadata": {},
   "source": [
    "## Mapping Ground Plane Coordinates to the Image Plane\n",
    "\n",
    "The extrinsic parameters indicate where the camera is with respect to the world frame. For our project we want to know the coordinate of a point on the ground relative to the camera which is mounted on a robot moving across a ground plane. We define a pair of coordinates frames as per this diagram\n",
    "\n",
    "![frames](images/coordinate-frames.png)"
   ]
  },
  {
   "cell_type": "markdown",
   "metadata": {},
   "source": [
    "The robot frame {R} is attached to the robot with its x-axis to the right, y-axis forward and z-axis upward. This frame sits on the ground plane, as does the world-coordinate frame we used for calibration (shown in the first figure in this notebook).\n",
    "\n",
    "The camera frame {C} is attached to the camera and has its x-axis to the right, y-axis downwards and z-axis (line of sight) forward.\n",
    "\n",
    "The relative pose of frame {C} with respect to frame {R} has two components: a translation $t$ and a rotation $\\mathbf{R}$.\n",
    "\n",
    "The translation is purely in the z-direction, and our calibration process gave us the height of the camera above the ground.  Therefore"
   ]
  },
  {
   "cell_type": "code",
   "execution_count": 61,
   "metadata": {},
   "outputs": [
    {
     "data": {
      "text/plain": [
       "[0, 0, 0.010000000000109824]"
      ]
     },
     "execution_count": 61,
     "metadata": {},
     "output_type": "execute_result"
    }
   ],
   "source": [
    "t = [0, 0, Tcam.t[2]] # Tcam.t[2] is the position of the camera in the world frame z-axis\n",
    "t"
   ]
  },
  {
   "cell_type": "markdown",
   "metadata": {},
   "source": [
    "To rotate the z-axis from upwards (frame {R}) to forwards (in frame {C}) is a rotation of -90° about the x-axis.  However our camera calibration indicated the angle was slightly different to that, -92° in fact.  There is also a slight rotation about the y-axis of 2°.  We will assume that there is no error in the rotation about the z-axis (there is actually no way to identity if there was).  \n",
    "\n",
    "Therefore the orientation of the camera frame {C} relative to the robot frame {R} is"
   ]
  },
  {
   "cell_type": "code",
   "execution_count": 62,
   "metadata": {},
   "outputs": [
    {
     "data": {
      "text/plain": [
       "  \u001b[38;5;1m 0.9994  \u001b[0m \u001b[38;5;1m-0.03488 \u001b[0m \u001b[38;5;1m-0.001218\u001b[0m  \u001b[0m\n",
       "  \u001b[38;5;1m 0       \u001b[0m \u001b[38;5;1m-0.0349  \u001b[0m \u001b[38;5;1m 0.9994  \u001b[0m  \u001b[0m\n",
       "  \u001b[38;5;1m-0.0349  \u001b[0m \u001b[38;5;1m-0.9988  \u001b[0m \u001b[38;5;1m-0.03488 \u001b[0m  \u001b[0m\n"
      ]
     },
     "execution_count": 62,
     "metadata": {},
     "output_type": "execute_result"
    }
   ],
   "source": [
    "R = SO3.Ry(rpy[1], 'deg') * SO3.Rx(rpy[0], 'deg')\n",
    "R"
   ]
  },
  {
   "cell_type": "markdown",
   "metadata": {},
   "source": [
    "Now we can combine the translation and rotation into a single homogeneous transformation"
   ]
  },
  {
   "cell_type": "code",
   "execution_count": 63,
   "metadata": {},
   "outputs": [
    {
     "name": "stdout",
     "output_type": "stream",
     "text": [
      "  \u001b[38;5;1m 0.9994  \u001b[0m \u001b[38;5;1m-0.03488 \u001b[0m \u001b[38;5;1m-0.001218\u001b[0m \u001b[38;5;4m 0       \u001b[0m  \u001b[0m\n",
      "  \u001b[38;5;1m 0       \u001b[0m \u001b[38;5;1m-0.0349  \u001b[0m \u001b[38;5;1m 0.9994  \u001b[0m \u001b[38;5;4m 0       \u001b[0m  \u001b[0m\n",
      "  \u001b[38;5;1m-0.0349  \u001b[0m \u001b[38;5;1m-0.9988  \u001b[0m \u001b[38;5;1m-0.03488 \u001b[0m \u001b[38;5;4m 0.01    \u001b[0m  \u001b[0m\n",
      "  \u001b[38;5;244m 0       \u001b[0m \u001b[38;5;244m 0       \u001b[0m \u001b[38;5;244m 0       \u001b[0m \u001b[38;5;244m 1       \u001b[0m  \u001b[0m\n",
      "\n"
     ]
    }
   ],
   "source": [
    "T = SE3(t) * SE3.Rt(R)\n",
    "print(T)"
   ]
  },
  {
   "cell_type": "markdown",
   "metadata": {},
   "source": [
    "Both `SO3` and `SE3` are classes defined in [Spatial Maths for Python](https://github.com/petercorke/spatialmath-python) and encapsulate the functionality that was introduced in lecture B1 on Monday.\n",
    "\n",
    "The camera model that was estimated from the camera matrix has valid intrinsic parameters but we want to change the  extrinsics.  Now we care about where the camera is with respect to {R} not where it is with respect to the calibration frame, so we will override the extrinsics"
   ]
  },
  {
   "cell_type": "code",
   "execution_count": 64,
   "metadata": {},
   "outputs": [
    {
     "name": "stdout",
     "output_type": "stream",
     "text": [
      "           Name: invC [CentralCamera]\n",
      "     pixel size: 1.0 x 1.0000000000003055\n",
      "           pose: t = 0, 0, 0.01; rpy/yxz = 180°, -88°, -178°\n",
      "   principal pt: [     640      512]\n",
      "   focal length: [    1500     1500]\n",
      "\n"
     ]
    }
   ],
   "source": [
    "camera.pose = T\n",
    "print(camera)"
   ]
  },
  {
   "cell_type": "markdown",
   "metadata": {},
   "source": [
    "We can use this model to investigate how world points are mapped to the image plane.\n",
    "\n",
    "Points on the ground 0.5m and 0.6m in front of the camera appear at the following locations on the image plane"
   ]
  },
  {
   "cell_type": "code",
   "execution_count": 65,
   "metadata": {},
   "outputs": [
    {
     "data": {
      "text/plain": [
       "array([[   641.3,    640.9],\n",
       "       [   497.1,    484.6]])"
      ]
     },
     "execution_count": 65,
     "metadata": {},
     "output_type": "execute_result"
    }
   ],
   "source": [
    "P = np.array([[0, 0.4, 0], [0, 0.6, 0]]).T\n",
    "camera.project_point(P)"
   ]
  },
  {
   "cell_type": "markdown",
   "metadata": {},
   "source": [
    "The second column corresponds to the point that is further from the camera and it is ~13 pixels higher in the image.\n",
    "\n",
    "We note that the u-coordinate of both points is close to the u-coordinate of the principal point (640), the centre of the image, which indicates that the world point is close to the optical axis (as the x-coordinate of 0 would indicate).  Remember that the camera is slightly skewed with respect to the robot frame.\n",
    "\n",
    "The camera matrix, that encodes the intrinsic and extrinsic parameters of the camera, is now"
   ]
  },
  {
   "cell_type": "code",
   "execution_count": 66,
   "metadata": {},
   "outputs": [
    {
     "data": {
      "text/plain": [
       "array([[    1498,    639.6,   -74.67,   0.7467],\n",
       "       [  -52.94,    459.3,    -1516,    15.16],\n",
       "       [-0.001218,   0.9994, -0.03488, 0.0003488]])"
      ]
     },
     "execution_count": 66,
     "metadata": {},
     "output_type": "execute_result"
    }
   ],
   "source": [
    "camera.C()"
   ]
  },
  {
   "cell_type": "markdown",
   "metadata": {},
   "source": [
    "## Mapping image plane coordinates to the ground plane\n",
    "\n",
    "In the previous section we intuitively worked through how we can map ground points into the image plane. Now we will see how can we do the opposite, but we will take a more principled approach. \n",
    "\n",
    "Points on the ground plane have a z-coordinate of zero.  The camera projection equation, in matrix form, is\n",
    "$$\n",
    "\\tilde{p} = \\begin{pmatrix} c_1 & c_2 & c_3  & c_4 \\end{pmatrix} \\begin{pmatrix} X \\\\ Y \\\\ Z \\\\ 1 \\end{pmatrix}\n",
    "$$\n",
    "where $c_i$ is the $i^{th}$ column of the camera matrix.  Since $Z=0$ we can rewrite as \n",
    "\n",
    "\\begin{align}\n",
    "\\tilde{p} & = \\begin{pmatrix} c_1 & c_2 & c_4 \\end{pmatrix} \\begin{pmatrix} X \\\\ Y \\\\ 1 \\end{pmatrix} \\\\\n",
    "          & = \\mathbf{H} \\begin{pmatrix} X \\\\ Y \\\\ 1 \\end{pmatrix}\n",
    "\\end{align}\n",
    "where $(X, Y)$ is a point on the ground plane with respect to the camera frame which has the Y-axis forward and the X-axis to the right.\n",
    "\n",
    "In this case $\\mathbf{H}$ is"
   ]
  },
  {
   "cell_type": "code",
   "execution_count": 67,
   "metadata": {},
   "outputs": [
    {
     "data": {
      "text/plain": [
       "array([[    1498,    639.6,   0.7467],\n",
       "       [  -52.94,    459.3,    15.16],\n",
       "       [-0.001218,   0.9994, 0.0003488]])"
      ]
     },
     "execution_count": 67,
     "metadata": {},
     "output_type": "execute_result"
    }
   ],
   "source": [
    "H = camera.C()[:,[0,1,3]]\n",
    "H"
   ]
  },
  {
   "cell_type": "markdown",
   "metadata": {},
   "source": [
    "which is both square and non-singular"
   ]
  },
  {
   "cell_type": "code",
   "execution_count": 68,
   "metadata": {},
   "outputs": [
    {
     "data": {
      "text/plain": [
       "-22500.000000227566"
      ]
     },
     "execution_count": 68,
     "metadata": {},
     "output_type": "execute_result"
    }
   ],
   "source": [
    "np.linalg.det(H)"
   ]
  },
  {
   "cell_type": "markdown",
   "metadata": {},
   "source": [
    "which means we have an invertible mapping between 2D points in the image plane and 2D points on the ground plane, both expressed in homogenous form.  Such a transformation is called an *homography*.\n",
    "\n",
    "**Note that in general we cannot map a 2D point to a 3D point, since a 2D image plane coordinate corresponds to a ray in space -- an infinite number of points.  However the constraint that the point lies on the ground plane makes a unique solution possible, it is the point where that ray intersects the ground plane.**\n",
    "\n",
    "Consider a point in the image plane at $(300, 600)$"
   ]
  },
  {
   "cell_type": "code",
   "execution_count": 69,
   "metadata": {},
   "outputs": [
    {
     "name": "stdout",
     "output_type": "stream",
     "text": [
      "[[       0        0]\n",
      " [     0.4      0.6]\n",
      " [       0        0]]\n"
     ]
    }
   ],
   "source": [
    "p = (300, 600)  # make homogeneous\n",
    "P_groundplane = base.h2e(np.linalg.inv(H) @ base.e2h(p))\n",
    "print(P)"
   ]
  },
  {
   "cell_type": "markdown",
   "metadata": {},
   "source": [
    "and this is corresponding point coordinate on the ground plane. x=-0.027 indicates it is to the left of the robot, and y=0.117 indicates it is in-front of the robot.\n",
    "\n",
    "We can cross check this by reprojecting that world point back to the image plane using our camera model"
   ]
  },
  {
   "cell_type": "code",
   "execution_count": 70,
   "metadata": {},
   "outputs": [
    {
     "name": "stdout",
     "output_type": "stream",
     "text": [
      "[[-0.02686]\n",
      " [  0.1166]\n",
      " [       0]]\n"
     ]
    },
    {
     "data": {
      "text/plain": [
       "array([[     300],\n",
       "       [     600]])"
      ]
     },
     "execution_count": 70,
     "metadata": {},
     "output_type": "execute_result"
    }
   ],
   "source": [
    "P = np.vstack((P_groundplane, 0))  # point is on the ground, add Z=0\n",
    "print(P)\n",
    "camera.project_point(P)"
   ]
  },
  {
   "cell_type": "markdown",
   "metadata": {},
   "source": [
    "and we obtain, as we should do, the image plane coordinate that we started with.\n",
    "\n",
    "## Summary\n",
    "\n",
    "1. Using corresponding 3D and 2D data we can estimate a camera matrix.\n",
    "2. We can untangle the elements of that matrix into intrinsic and extrinsic parameters.\n",
    "3. We use an estimated camera model to form an homography which maps between image plane and ground plane."
   ]
  },
  {
   "cell_type": "markdown",
   "metadata": {},
   "source": [
    "# Using data from real calibration image"
   ]
  },
  {
   "cell_type": "markdown",
   "metadata": {},
   "source": [
    "Now you get to apply what you've learned above using a real image of a calibration target. The next section of code will display an image and a text widget showing an $8 \\times 2$ array. \n",
    "\n",
    "You will need to:\n",
    "\n",
    "1. display the image of the calibration target\n",
    "2. use `points = plt.ginput(n=8)` and click the centre of each point as accurately as you can, in the order given by the diagram at the top of this notebook.\n",
    "2. If you make a mistake, do a right-click and will undo the last point you clicked (and remove the marker)\n",
    "\n",
    "Once you are happy with the points you selected, move onto the next set of code."
   ]
  },
  {
   "cell_type": "code",
   "execution_count": 71,
   "metadata": {},
   "outputs": [],
   "source": [
    "# p = np.array(points).T # we actually need a 2 x 8 matrix for the function below, so simply take the transpose\n"
   ]
  },
  {
   "cell_type": "markdown",
   "metadata": {},
   "source": [
    "Here's the value I got"
   ]
  },
  {
   "cell_type": "code",
   "execution_count": 72,
   "metadata": {},
   "outputs": [],
   "source": [
    "p = np.array([[   80.07,      137,     81.1,    138.1,    224.5,    287.1,    223.1,      286],\n",
    "              [   17.87,    33.26,    88.52,    92.45,    30.35,    11.88,    90.57,    85.44]])"
   ]
  },
  {
   "cell_type": "code",
   "execution_count": 73,
   "metadata": {},
   "outputs": [
    {
     "data": {
      "text/plain": [
       "0.39328720289250896"
      ]
     },
     "execution_count": 73,
     "metadata": {},
     "output_type": "execute_result"
    }
   ],
   "source": [
    "C, resid = CentralCamera.points2C(P_calib, p)\n",
    "resid"
   ]
  },
  {
   "cell_type": "markdown",
   "metadata": {},
   "source": [
    "If you've done a good job the residual should be less than 1 pixel."
   ]
  },
  {
   "cell_type": "code",
   "execution_count": 74,
   "metadata": {},
   "outputs": [
    {
     "name": "stdout",
     "output_type": "stream",
     "text": [
      "           Name: invC [CentralCamera]\n",
      "     pixel size: 1.0 x 0.9989821424283056\n",
      "           pose: t = 0.201, -0.21, 0.0409; rpy/yxz = 93.2°, -42.5°, -93.6°\n",
      "   principal pt: [   163.8    123.4]\n",
      "   focal length: [   238.8    238.8]\n",
      "\n"
     ]
    }
   ],
   "source": [
    "camera = CentralCamera.decomposeC(C)\n",
    "print(camera)"
   ]
  },
  {
   "cell_type": "code",
   "execution_count": null,
   "metadata": {},
   "outputs": [],
   "source": []
  }
 ],
 "metadata": {
  "kernelspec": {
   "display_name": "Python 3",
   "language": "python",
   "name": "python3"
  },
  "language_info": {
   "codemirror_mode": {
    "name": "ipython",
    "version": 3
   },
   "file_extension": ".py",
   "mimetype": "text/x-python",
   "name": "python",
   "nbconvert_exporter": "python",
   "pygments_lexer": "ipython3",
   "version": "3.8.5"
  },
  "varInspector": {
   "cols": {
    "lenName": 16,
    "lenType": 16,
    "lenVar": 40
   },
   "kernels_config": {
    "python": {
     "delete_cmd_postfix": "",
     "delete_cmd_prefix": "del ",
     "library": "var_list.py",
     "varRefreshCmd": "print(var_dic_list())"
    },
    "r": {
     "delete_cmd_postfix": ") ",
     "delete_cmd_prefix": "rm(",
     "library": "var_list.r",
     "varRefreshCmd": "cat(var_dic_list()) "
    }
   },
   "types_to_exclude": [
    "module",
    "function",
    "builtin_function_or_method",
    "instance",
    "_Feature"
   ],
   "window_display": false
  }
 },
 "nbformat": 4,
 "nbformat_minor": 4
}
