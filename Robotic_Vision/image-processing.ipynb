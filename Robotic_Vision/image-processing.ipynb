{
 "cells": [
  {
   "cell_type": "markdown",
   "metadata": {},
   "source": [
    "<table>\n",
    "  <tr>\n",
    "    <td><img src=\"https://github.com/rvss-australia/RVSS/blob/main/Pics/RVSS-logo-col.med.jpg?raw=1\" width=\"400\"></td>\n",
    "    <td><div align=\"left\"><font size=\"30\">Image Processing</font></div></td>\n",
    "  </tr>\n",
    "</table>\n",
    "\n",
    "(c) Peter Corke 2024\n",
    "\n",
    "Robotics, Vision & Control: Python, see Chapter 11"
   ]
  },
  {
   "cell_type": "markdown",
   "metadata": {},
   "source": [
    "## Configuring the Jupyter environment\n",
    "We need to import some packages to help us with linear algebra (`numpy`), graphics (`matplotlib`), and machine vision (`machinevisiontoolbox`).\n",
    "If you're running locally you need to have these packages installed.  If you're running on CoLab we have to first install machinevisiontoolbox which is not preinstalled, this will be a bit slow."
   ]
  },
  {
   "cell_type": "code",
   "execution_count": null,
   "metadata": {},
   "outputs": [],
   "source": [
    "try:\n",
    "    import google.colab\n",
    "    print('Running on CoLab')\n",
    "    !pip install machinevision-toolbox-python\n",
    "    COLAB = True\n",
    "except:\n",
    "    COLAB = False\n",
    "\n",
    "%matplotlib inline\n",
    "\n",
    "import numpy as np\n",
    "from machinevisiontoolbox import *\n",
    "\n",
    "# display result of assignments\n",
    "%config ZMQInteractiveShell.ast_node_interactivity = 'last_expr_or_assign'\n",
    "# make NumPy display a bit nicer\n",
    "np.set_printoptions(linewidth=100, formatter={'float': lambda x: f\"{x:10.4g}\" if abs(x) > 1e-10 else f\"{0:10.4g}\"})\n",
    "\n",
    "import matplotlib.pyplot as plt\n",
    "\n",
    "# # examples for imageprocessing.py\n",
    "# ip = mvt.ImageProcessing()\n",
    "\n",
    "# # list of image filenames\n",
    "# nimg = 8\n",
    "# flowers = [str(('../images/flowers' + str(i+1) + '.png')) for i in range(nimg)]\n",
    "# for i in range(len(flowers)):\n",
    "#     print(flowers[i])\n",
    "\n",
    "# # list of images\n",
    "# imlist = [mvt.iread(('../images/' + i)) for i in flowers]\n"
   ]
  },
  {
   "cell_type": "markdown",
   "metadata": {},
   "source": [
    "***\n",
    "\n",
    "Display a matrix of zeros as an image"
   ]
  },
  {
   "cell_type": "code",
   "execution_count": null,
   "metadata": {},
   "outputs": [],
   "source": [
    "plt.imshow(np.zeros((100, 100)))\n",
    "plt.draw()"
   ]
  },
  {
   "cell_type": "code",
   "execution_count": null,
   "metadata": {},
   "outputs": [],
   "source": [
    "street = Image.Read(\"street.png\")\n",
    "print(street)\n",
    "street.disp()\n",
    "im_uint16 = street.iint(imgs, intclass='uint16')\n",
    "\n",
    "# print(imgs.dtype)\n",
    "# print(im_uint16.dtype)\n"
   ]
  },
  {
   "cell_type": "code",
   "execution_count": null,
   "metadata": {},
   "outputs": [],
   "source": [
    "# test idouble\n",
    "\n",
    "imgs = Image(imlist)\n",
    "ip = mvt.ImageProcessing()\n",
    "imdouble = ip.idouble(imgs)\n",
    "print(imgs.dtype)\n",
    "print(imdouble.dtype)\n"
   ]
  },
  {
   "cell_type": "code",
   "execution_count": null,
   "metadata": {},
   "outputs": [],
   "source": [
    "# test image stretch\n",
    "imgs = mvt.Image(imlist)\n",
    "\n",
    "print(imgs.shape)\n",
    "print(imgs.image.max())\n",
    "print(imgs.image.min())\n",
    "imgs.disp()\n",
    "\n",
    "imstretch = ip.stretch(imgs[0], max=10, range=[100, 255])\n",
    "imstretch.disp()\n",
    "print(imstretch.image.max())\n",
    "print(imstretch.image.min())"
   ]
  },
  {
   "cell_type": "code",
   "execution_count": null,
   "metadata": {},
   "outputs": [],
   "source": [
    "# test image erosion\n",
    "imbwfile = '../images/multiblobs.png'\n",
    "imbw = mvt.Image(imbwfile)\n",
    "imbw.disp()\n",
    "\n",
    "ime = ip.erode(imbw, np.ones((3, 3)), n = 50)\n",
    "ime.disp()"
   ]
  },
  {
   "cell_type": "code",
   "execution_count": null,
   "metadata": {},
   "outputs": [],
   "source": [
    "\n",
    "imbwfile = '../images/multiblobs.png'\n",
    "imbw = mvt.Image(imbwfile)\n",
    "imbw.disp()\n",
    "\n",
    "ime = ip.dilate(imbw, np.ones((3, 3)), n = 25)\n",
    "ime.disp()"
   ]
  },
  {
   "cell_type": "code",
   "execution_count": null,
   "metadata": {},
   "outputs": [],
   "source": [
    "# test color function:\n",
    "\n",
    "# test with a mono image\n",
    "imgs = mvt.Image(imlist, iscolor=False)\n",
    "print('iscolor =', imgs.iscolor)\n",
    "imgs.disp()\n",
    "print(imgs.shape)\n",
    "\n",
    "ip = mvt.ImageProcessing()\n",
    "imc = ip.colorise(imgs, [1, 0, 0])  # make red\n",
    "mvt.idisp(imc.rgb)\n",
    "\n",
    "# check min/max:\n",
    "#print(imc.image.min)\n",
    "#print(np.min(imc.image))\n",
    "\n"
   ]
  },
  {
   "cell_type": "code",
   "execution_count": null,
   "metadata": {},
   "outputs": [],
   "source": [
    "# try converting list of images to mono:\n",
    "\n",
    "imgs = mvt.Image(imlist, iscolor=True)\n",
    "print('num images =', imgs.nimages)\n",
    "print('num channels =', imgs.nchannels)\n",
    "\n",
    "ip = mvt.ImageProcessing()\n",
    "mono_imgs = ip.mono(imgs)\n",
    "print('num images =', imgs.nimages)\n",
    "print('num channels =', imgs.nchannels)\n",
    "\n",
    "mono_imgs.disp()"
   ]
  },
  {
   "cell_type": "code",
   "execution_count": null,
   "metadata": {},
   "outputs": [],
   "source": [
    "\n",
    "# label:\n",
    "\n",
    "print('label')\n",
    "im = Image('../images/multiblobs.png')\n",
    "\n",
    "retval, labels = ip.label(im)\n",
    "\n",
    "mvt.idisp(labels)\n",
    "print(retval)\n",
    "print(labels)\n",
    "np.max(labels)"
   ]
  },
  {
   "cell_type": "code",
   "execution_count": null,
   "metadata": {},
   "outputs": [],
   "source": [
    "# check morph\n",
    "imbwfile = '../images/multiblobs.png'\n",
    "imbw = mvt.Image(imbwfile)\n",
    "imbw.disp()\n",
    "\n",
    "se = np.ones((3, 3))\n",
    "immi = ip.morph(imbw, se, oper='min', n=25)\n",
    "print(type(immi))\n",
    "immi.disp()\n",
    "imma = ip.morph(imbw, se, oper='max', n=25)\n",
    "imma.disp()\n",
    "imd = ip.morph(imbw, se, oper='diff', n=25)\n",
    "imd.disp()\n"
   ]
  },
  {
   "cell_type": "code",
   "execution_count": null,
   "metadata": {},
   "outputs": [],
   "source": [
    "# check hitormiss\n",
    "imbwfile = '../images/multiblobs.png'\n",
    "imbw = mvt.Image(imbwfile)\n",
    "imbw.disp()\n",
    "\n",
    "se = np.ones((3, 3))\n",
    "imhm = ip.hitormiss(imbw, se)\n",
    "imhm.disp()\n",
    "# this one's probably best left to the unit tests"
   ]
  },
  {
   "cell_type": "code",
   "execution_count": null,
   "metadata": {},
   "outputs": [],
   "source": [
    "# test endpoint\n",
    "\n",
    "# imbwfile = '../images/sharks.png'\n",
    "# imbw = mvt.Image(imbwfile)\n",
    "# imbw.disp()\n",
    "imbw = np.array([[0, 0, 0, 0, 0, 0, 0, 0],\n",
    "                [0, 0, 0, 0, 0, 0, 0, 0],\n",
    "                [1, 1, 1, 1, 0, 0, 0, 0],\n",
    "                [0, 0, 0, 0, 0, 0, 0, 0],\n",
    "                [0, 0, 0, 0, 0, 0, 0, 0],\n",
    "                [0, 0, 0, 0, 0, 0, 0, 0]])\n",
    "imbw = mvt.Image(imbw)\n",
    "imbw.disp()\n",
    "\n",
    "imep = ip.endpoint(imbw)\n",
    "imep.disp() # too bloody small\n",
    "print('max = ', imep.image.max())  # we know they're there!\n",
    "print('min = ', imep.image.min())\n",
    "print(imep.shape)\n",
    "print(np.where(imep.image > 0))\n",
    "\n",
    "# imd = ip.dilate(imep, np.ones((1,1)), n=10)\n",
    "# imd.disp()"
   ]
  }
 ],
 "metadata": {
  "interpreter": {
   "hash": "b7d6b0d76025b9176285a6442c3dd6dd39bcfe7241029b7898b7106bd5e9b472"
  },
  "kernelspec": {
   "display_name": "Python 3.7.7 64-bit ('mvt': venv)",
   "language": "python",
   "name": "python3"
  },
  "language_info": {
   "codemirror_mode": {
    "name": "ipython",
    "version": 3
   },
   "file_extension": ".py",
   "mimetype": "text/x-python",
   "name": "python",
   "nbconvert_exporter": "python",
   "pygments_lexer": "ipython3",
   "version": "3.10.12"
  },
  "orig_nbformat": 2
 },
 "nbformat": 4,
 "nbformat_minor": 2
}
