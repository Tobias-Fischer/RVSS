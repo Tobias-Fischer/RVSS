{
  "cells": [
    {
      "cell_type": "markdown",
      "metadata": {
        "id": "A9qQwB1qntLt"
      },
      "source": [
        "<table>\n",
        "  <tr>\n",
        "    <td><div align=\"left\"><font size=\"30\">Event camera demo</font></div></td>\n",
        "    <td><img src=\"https://github.com/Tobias-Fischer/RVSS2022/blob/main/Robotic_Vision/common/RVSS-logo.png?raw=1\" width=\"400\"></td>\n",
        "  </tr>\n",
        "</table>\n",
        "\n",
        "**By Cedric Scheerlinck; edited and adapted for RVSS2022 by Tobias Fischer**\n",
        "\n",
        "Description: Let's explore event cameras. We will load a small dataset to get familiar with the event data structure, and display some popular visualisations. We will also see what happens if we integrate over the events directly, or with a leaky integrator. Finally, we will explore a promising direction where conventional frames are fused with the event data using a so-called complementarity filter.\n",
        "\n",
        "This notebook is based on: https://github.com/cedric-scheerlinck/dvs_image_reconstruction  "
      ]
    },
    {
      "cell_type": "code",
      "source": [
        "# If you are interested to find out more, check out this video!\n",
        "\n",
        "from IPython.display import YouTubeVideo\n",
        "YouTubeVideo('bZ0ZKido0Ag')"
      ],
      "metadata": {
        "id": "OYNrCgRM9Se-"
      },
      "execution_count": null,
      "outputs": []
    },
    {
      "cell_type": "code",
      "source": [
        "# Let's get ready, we need the repo for some helper scripts\n",
        "if not os.path.exists('RVSS2022'):\n",
        "  !git clone --depth 1 https://github.com/Tobias-Fischer/RVSS2022.git\n",
        "else:\n",
        "  %cd RVSS2022\n",
        "  !git pull\n",
        "  %cd .."
      ],
      "metadata": {
        "id": "ED0vkwWromZ7"
      },
      "execution_count": null,
      "outputs": []
    },
    {
      "cell_type": "code",
      "execution_count": null,
      "metadata": {
        "id": "YH8tXF2OntLv"
      },
      "outputs": [],
      "source": [
        "import sys\n",
        "import os\n",
        "sys.path.insert(0, os.path.abspath('RVSS2022/Robotic_Vision/common'))\n",
        "\n",
        "from ipywidgets import interact, fixed, interact_manual, FloatSlider, IntSlider\n",
        "import math\n",
        "%matplotlib inline\n",
        "from matplotlib import rc\n",
        "rc('animation', html='jshtml')\n",
        "import numpy as np\n",
        "import matplotlib.pyplot as plt\n",
        "from matplotlib.animation import ArtistAnimation\n",
        "from IPython.core.display import display, HTML, Image\n",
        "\n",
        "# local modules\n",
        "from util import Timer, Event, normalize_image, animate, load_events, plot_3d, event_slice"
      ]
    },
    {
      "cell_type": "code",
      "execution_count": null,
      "metadata": {
        "id": "hAYGp0H0ntLv"
      },
      "outputs": [],
      "source": [
        "def high_pass_filter(event_data, cutoff_frequency=5):\n",
        "    print('Reconstructing, please wait...')\n",
        "    events, height, width = event_data.event_list, event_data.height, event_data.width\n",
        "    events_per_frame = 2e4\n",
        "    with Timer('Reconstruction'):\n",
        "        time_surface = np.zeros((height, width), dtype=np.float32)\n",
        "        image_state = np.zeros((height, width), dtype=np.float32)\n",
        "        image_list = []\n",
        "        for i, e in enumerate(events):\n",
        "            beta = math.exp(-cutoff_frequency * (e.t - time_surface[e.y, e.x]))\n",
        "            image_state[e.y, e.x] = beta * image_state[e.y, e.x] + e.p\n",
        "            time_surface[e.y, e.x] = e.t\n",
        "            if i % events_per_frame == 0:\n",
        "                beta = np.exp(-cutoff_frequency * (e.t - time_surface))\n",
        "                image_state *= beta\n",
        "                time_surface.fill(e.t)\n",
        "                image_list.append(np.copy(image_state))\n",
        "    return animate(image_list, 'High Pass Filter')\n",
        "\n",
        "def leaky_integrator(event_data, beta=1.0):\n",
        "    print('Reconstructing, please wait...')\n",
        "    events, height, width = event_data.event_list, event_data.height, event_data.width\n",
        "    events_per_frame = 2e4\n",
        "    with Timer('Reconstruction (simple)'):\n",
        "        image_state = np.zeros((height, width), dtype=np.float32)\n",
        "        image_list = []\n",
        "        for i, e in enumerate(events):\n",
        "            # Note the beta here. If set to 1, we directly integrate.\n",
        "            image_state[e.y, e.x] = beta * image_state[e.y, e.x] + e.p\n",
        "            if i % events_per_frame == 0:\n",
        "                image_list.append(np.copy(image_state))\n",
        "    fig_title = 'Direct Integration' if beta == 1 else 'Leaky Integrator'\n",
        "    return animate(image_list, fig_title)\n"
      ]
    },
    {
      "cell_type": "code",
      "execution_count": null,
      "metadata": {
        "id": "JQpQ65jCntLw"
      },
      "outputs": [],
      "source": [
        "# Let's load in the event data\n",
        "\n",
        "with Timer('Loading'):\n",
        "    n_events = 5e5\n",
        "    path_to_events = 'RVSS2022/Robotic_Vision/event_camera_data/boxes_6dof/events.zip'\n",
        "    event_data = load_events(path_to_events, n_events)        "
      ]
    },
    {
      "cell_type": "code",
      "source": [
        "# Let's have a look how events are specified\n",
        "\n",
        "event_data.event_list[:10]"
      ],
      "metadata": {
        "id": "Pedx1OQ1-5z5"
      },
      "execution_count": null,
      "outputs": []
    },
    {
      "cell_type": "markdown",
      "metadata": {
        "id": "XFu0lOXSntLw"
      },
      "source": [
        "## Event point cloud\n",
        "\n",
        "<span style=\"color:red\">Red = ON event (+1),</span> <span style=\"color:blue\">blue = OFF event (-1).</span>  \n",
        "Click and drag the 3D plot to rotate it."
      ]
    },
    {
      "cell_type": "code",
      "execution_count": null,
      "metadata": {
        "id": "dyjhuEOVntLx"
      },
      "outputs": [],
      "source": [
        "with Timer('3D plot'):\n",
        "    plot_3d(event_data, n_events=10e3)"
      ]
    },
    {
      "cell_type": "markdown",
      "metadata": {
        "id": "dqXdQw2DntLx"
      },
      "source": [
        "## Event slice\n",
        "\n",
        "Use the sliders to visualize a slice of events within a time window."
      ]
    },
    {
      "cell_type": "code",
      "execution_count": null,
      "metadata": {
        "id": "0hsWFtVTntLx"
      },
      "outputs": [],
      "source": [
        "interact(event_slice, event_data=fixed(event_data),\n",
        "         start=FloatSlider(min=0, max=1, step=0.01,continuous_update=False),\n",
        "         duration_ms=IntSlider(value=50, min=0, max=500, step=1, continuous_update=False));"
      ]
    },
    {
      "cell_type": "markdown",
      "metadata": {
        "id": "i1Hdw2LyntLx"
      },
      "source": [
        "## Image reconstruction\n",
        "Run the cell, then click ```Run Interact``` and wait for the animation to appear to see the result.  \n",
        "Use the slider then click ```Run Interact``` again to try different settings.\n",
        "\n",
        "### Leaky integrator\n",
        "Equation: $L^{k+1}(x, y) = \\beta L^k(x, y) + p,\\ \\beta \\in [0, 1],\\ p \\in \\{-1, 1\\}$, where $L$ is the log image intensity and $p$ is the event polarity.\n",
        "\n",
        "#### Set ```beta = 1``` for direct integration. Try lowering beta to see what happens."
      ]
    },
    {
      "cell_type": "code",
      "execution_count": null,
      "metadata": {
        "id": "zTfuKt_1ntLx"
      },
      "outputs": [],
      "source": [
        "interact_manual(leaky_integrator, event_data=fixed(event_data), beta=(0, 1, 0.01));"
      ]
    },
    {
      "cell_type": "markdown",
      "metadata": {
        "id": "NlYts9TpntLy"
      },
      "source": [
        "### High pass filter\n",
        "Below is the high pass filter as described in: https://cedric-scheerlinck.github.io/files/2018_scheerlinck_continuous-time_intensity_estimation.pdf  \n",
        "Equation: $L^{k+1}(x, y) = \\exp(-\\alpha \\Delta t) L^k(x, y) + p$, where $\\alpha$ is the cutoff frequency and $\\Delta t$ is the time since the last event at the same pixel."
      ]
    },
    {
      "cell_type": "code",
      "execution_count": null,
      "metadata": {
        "scrolled": false,
        "id": "CepENM6JntLy"
      },
      "outputs": [],
      "source": [
        "interact_manual(high_pass_filter, event_data=fixed(event_data), cutoff_frequency=(0, 20, 0.01));"
      ]
    },
    {
      "cell_type": "markdown",
      "metadata": {
        "id": "Uf_zkl5WntLy"
      },
      "source": [
        "### Complementary filter\n",
        "Below is the complementary filter as described in: https://cedric-scheerlinck.github.io/files/2018_scheerlinck_continuous-time_intensity_estimation.pdf \n",
        "\n",
        "The basic idea is to fuse event data with the conventional frame output that (some) event cameras provide. Remember that just with the event data we don't know the initial state of the image, the conventional frame helps us out.\n",
        "\n",
        "Equation: $L^{k+1}(x, y) = \\exp(-\\alpha \\Delta t) L^k(x, y) + (1 - \\exp(-\\alpha \\Delta t)) L_F(x, y) + p$, where $\\alpha$ is the cutoff frequency, $\\Delta t$ is the time since the last event at the same pixel and $L_F$ is the log intensity of the image frame from a frame-based camera, e.g., DAVIS."
      ]
    },
    {
      "cell_type": "code",
      "execution_count": null,
      "metadata": {
        "id": "o3G-aw66ntLy"
      },
      "outputs": [],
      "source": [
        "# Let's load the conventional frames\n",
        "event_data.add_frame_data('RVSS2022/Robotic_Vision/event_camera_data/boxes_6dof')"
      ]
    },
    {
      "cell_type": "code",
      "execution_count": null,
      "metadata": {
        "id": "pZ8xa2NKntLy"
      },
      "outputs": [],
      "source": [
        "def complementary_filter(event_data, cutoff_frequency=5.0):\n",
        "    print('Reconstructing, please wait...')\n",
        "    events, height, width = event_data.event_list, event_data.height, event_data.width\n",
        "    frames, frame_timestamps = event_data.frames, event_data.frame_timestamps\n",
        "    events_per_frame = 2e4\n",
        "    with Timer('Reconstruction'):\n",
        "        time_surface = np.zeros((height, width), dtype=np.float32)\n",
        "        image_state = np.zeros((height, width), dtype=np.float32)\n",
        "        image_list = []\n",
        "        frame_idx = 0\n",
        "        max_frame_idx = len(frames) - 1\n",
        "        log_frame = np.log(frames[0] + 1)\n",
        "        for i, e in enumerate(events):\n",
        "            if frame_idx < max_frame_idx:\n",
        "                if e.t >= frame_timestamps[frame_idx + 1]:\n",
        "                    log_frame = np.log(frames[frame_idx + 1] + 1)\n",
        "                    frame_idx += 1\n",
        "            beta = math.exp(-cutoff_frequency * (e.t - time_surface[e.y, e.x]))\n",
        "            image_state[e.y, e.x] = beta * image_state[e.y, e.x] \\\n",
        "                                    + (1 - beta) * log_frame[e.y, e.x] + 0.1 * e.p\n",
        "            time_surface[e.y, e.x] = e.t\n",
        "            if i % events_per_frame == 0:\n",
        "                beta = np.exp(-cutoff_frequency * (e.t - time_surface))\n",
        "                image_state = beta * image_state + (1 - beta) * log_frame\n",
        "                time_surface.fill(e.t)\n",
        "                image_list.append(np.copy(image_state))\n",
        "    return animate(image_list, 'Complementary Filter')"
      ]
    },
    {
      "cell_type": "code",
      "execution_count": null,
      "metadata": {
        "id": "mJEjl7w7ntLz"
      },
      "outputs": [],
      "source": [
        "interact_manual(complementary_filter, event_data=fixed(event_data), cutoff_frequency=(0, 20, 0.01));"
      ]
    },
    {
      "cell_type": "code",
      "execution_count": null,
      "metadata": {
        "id": "P_2dYutPntLz"
      },
      "outputs": [],
      "source": [
        ""
      ]
    }
  ],
  "metadata": {
    "kernelspec": {
      "display_name": "Python 3",
      "language": "python",
      "name": "python3"
    },
    "language_info": {
      "codemirror_mode": {
        "name": "ipython",
        "version": 3
      },
      "file_extension": ".py",
      "mimetype": "text/x-python",
      "name": "python",
      "nbconvert_exporter": "python",
      "pygments_lexer": "ipython3",
      "version": "3.6.7"
    },
    "varInspector": {
      "cols": {
        "lenName": 16,
        "lenType": 16,
        "lenVar": 40
      },
      "kernels_config": {
        "python": {
          "delete_cmd_postfix": "",
          "delete_cmd_prefix": "del ",
          "library": "var_list.py",
          "varRefreshCmd": "print(var_dic_list())"
        },
        "r": {
          "delete_cmd_postfix": ") ",
          "delete_cmd_prefix": "rm(",
          "library": "var_list.r",
          "varRefreshCmd": "cat(var_dic_list()) "
        }
      },
      "types_to_exclude": [
        "module",
        "function",
        "builtin_function_or_method",
        "instance",
        "_Feature"
      ],
      "window_display": false
    },
    "colab": {
      "name": "event_cameras.ipynb",
      "provenance": []
    }
  },
  "nbformat": 4,
  "nbformat_minor": 0
}