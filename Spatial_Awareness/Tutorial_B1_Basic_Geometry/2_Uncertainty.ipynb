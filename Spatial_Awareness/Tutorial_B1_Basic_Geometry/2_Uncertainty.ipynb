{
  "cells": [
    {
      "cell_type": "markdown",
      "metadata": {
        "id": "2gPQ4W6wr4G0"
      },
      "source": [
        "<table>\n",
        "  <tr>\n",
        "      <td><div style=\"white-space: pre-wrap;\" align=\"left\"><font size=\"30\" >Tutorial A2&#10;Uncertainty </font></div></td>\n",
        "     <td><img src=\"https://github.com/Tobias-Fischer/RVSS2022/blob/main/Spatial_Awareness/Tutorial_B2_Robot_Localisation/image/RVSS-logo.png?raw=1\" width=\"400\"></td>\n",
        "  </tr>\n",
        "</table>"
      ]
    },
    {
      "cell_type": "markdown",
      "metadata": {
        "id": "MlY9k7hFr4G2"
      },
      "source": [
        "## Discrete Distribution Convolution"
      ]
    },
    {
      "cell_type": "code",
      "execution_count": 6,
      "metadata": {
        "colab": {
          "base_uri": "https://localhost:8080/",
          "height": 136
        },
        "id": "R6vzSlHUr4G3",
        "outputId": "49e5d6d3-f4fb-476d-e36f-0c98d906992c"
      },
      "outputs": [
        {
          "name": "stdout",
          "output_type": "stream",
          "text": [
            "Cloning into 'RVSS2022'...\n",
            "remote: Enumerating objects: 444, done.\u001b[K\n",
            "remote: Counting objects: 100% (444/444), done.\u001b[K\n",
            "remote: Compressing objects: 100% (361/361), done.\u001b[K\n",
            "remote: Total 444 (delta 215), reused 270 (delta 75), pack-reused 0\u001b[K\n",
            "Receiving objects: 100% (444/444), 30.81 MiB | 14.78 MiB/s, done.\n",
            "Resolving deltas: 100% (215/215), done.\n"
          ]
        }
      ],
      "source": [
        "#Here we show how a discrete distribution evolves through convolution\n",
        "import os\n",
        "\n",
        "!git clone https://github.com/Tobias-Fischer/RVSS2022.git\n",
        "os.chdir('RVSS2022/Spatial_Awareness/Tutorial_B2_Robot_Localisation')\n",
        "\n",
        "from Distribution import *\n",
        "import matplotlib.pyplot as plt\n",
        "%matplotlib inline\n",
        "\n"
      ]
    },
    {
      "cell_type": "code",
      "execution_count": 7,
      "metadata": {
        "colab": {
          "base_uri": "https://localhost:8080/",
          "height": 316
        },
        "id": "ywQ2Zk3stURN",
        "outputId": "f8818d8b-537a-4acd-dfe3-bbda784c970d"
      },
      "outputs": [
        {
          "name": "stdout",
          "output_type": "stream",
          "text": [
            "start = 14, values = 0.250000 0.500000 0.250000\n",
            "start = 14, values = 0.250000 0.500000 0.250000\n",
            "start = 14, values = 0.250000 0.500000 0.250000\n"
          ]
        },
        {
          "data": {
            "image/png": "[encoded data removed]",
            "text/plain": [
              "<Figure size 432x288 with 1 Axes>"
            ]
          },
          "metadata": {
            "needs_background": "light"
          },
          "output_type": "display_data"
        }
      ],
      "source": [
        "\n",
        "##----------- Move 3 times by 15-------------------------\n",
        "moves = [15] * 3\n",
        "#\n",
        "#--------------------------------------------------------\n",
        "\n",
        "# Start with a known position: probability 1.0 at position 10.\n",
        "\n",
        "#This is our initial discrete probability distribution 1.0 at 10 \n",
        "#This means we are 100% certain our position is 10\n",
        "position = Distribution.unit_pulse(10)\n",
        "x,y = position.plotlists(0,300)\n",
        "\n",
        "# #Plot our initial position\n",
        "fig = plt.figure()\n",
        "plt.step(x,y)\n",
        "\n",
        "# Now move and plot.\n",
        "for m in moves:\n",
        "    move_distribution = Distribution.triangle(m, 2)\n",
        "    print(move_distribution)\n",
        "    position = position.convolve(move_distribution)\n",
        "    x,y = position.plotlists(0,300)\n",
        "    plt.step(x,y)\n"
      ]
    },
    {
      "cell_type": "markdown",
      "metadata": {
        "id": "d9xYy4igr4G4"
      },
      "source": [
        "## Discrete VS Continuous Gaussian"
      ]
    },
    {
      "cell_type": "code",
      "execution_count": 8,
      "metadata": {
        "colab": {
          "base_uri": "https://localhost:8080/",
          "height": 265
        },
        "id": "Y8aYZE_Cr4G4",
        "outputId": "963a69fa-6c17-480f-e42a-b5108afd2191"
      },
      "outputs": [
        {
          "data": {
            "image/png": "[encoded data removed]",
            "text/plain": [
              "<Figure size 432x288 with 1 Axes>"
            ]
          },
          "metadata": {
            "needs_background": "light"
          },
          "output_type": "display_data"
        }
      ],
      "source": [
        "#Here we look at gaussian distribution evolution keeping track of only mean and sigma\n",
        "\n",
        "#We can use scipy library to generate Gaussian probability density function\n",
        "import numpy as np\n",
        "from scipy.stats import norm\n",
        "\n",
        "#This is our mean at t, we initialize at zero\n",
        "mu_t = 0\n",
        "#This is our covariance at t, we initialize very small implying we know x0 very well\n",
        "sigma_t = 0.01\n",
        "#This is the uncertainty in our move function \n",
        "sigma_Q = 2\n",
        "\n",
        "# Move 25 times by 10.\n",
        "moves = [50] * 25\n",
        "\n",
        "#We will create a discrete distribution where we keep track of lots of values in an array\n",
        "discrete_state = Distribution.gaussian(mu_t,sigma_t)\n",
        "\n",
        "#Plot our initial position described by discrete distribution\n",
        "x,y = discrete_state.plotlists(0,1000)\n",
        "fig = plt.figure()\n",
        "plt.step(x,y,color='red')\n",
        "\n",
        "#Now lets use the continuous formula\n",
        "def gauss(x,mu,sigma):\n",
        "    y = np.exp(-1/2*(np.power((x-mu)/sigma,2)))/(sigma*np.sqrt(2*np.pi))\n",
        "    return y\n",
        "\n",
        "y = gauss(np.array(x),mu_t,sigma_t)\n",
        "plt.plot(x,y,color='blue')\n",
        "    \n",
        "plt.legend(('discrete','continuous'))\n",
        "# Now move and plot.\n",
        "for m in moves:\n",
        "    #Here is our discrete distribution representing uncertainty in our move function \n",
        "    discrete_control = Distribution.gaussian(m,sigma_Q)\n",
        "    discrete_state = discrete_state.convolve(discrete_control)\n",
        "    x,y = discrete_state.plotlists(0,1000)\n",
        "    plt.step(x,y,color='red')\n",
        "    \n",
        "    #Now update our continuous by modifying mu and sigma\n",
        "    mu_t = mu_t+m\n",
        "    sigma_t = np.sqrt(sigma_t*sigma_t + sigma_Q*sigma_Q)\n",
        "    y = gauss(np.array(x),mu_t,sigma_t)\n",
        "    plt.plot(x,y,color='blue')\n",
        "    \n"
      ]
    },
    {
      "cell_type": "code",
      "execution_count": null,
      "metadata": {
        "id": "RDzGd7wlr4G5"
      },
      "outputs": [],
      "source": []
    }
  ],
  "metadata": {
    "colab": {
      "name": "2_Uncertainty.ipynb",
      "provenance": []
    },
    "kernelspec": {
      "display_name": "Python 3",
      "name": "python3"
    },
    "language_info": {
      "name": "python"
    }
  },
  "nbformat": 4,
  "nbformat_minor": 0
}
