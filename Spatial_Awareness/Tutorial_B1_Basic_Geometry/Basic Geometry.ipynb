{
  "cells": [
    {
      "cell_type": "markdown",
      "metadata": {
        "id": "N1DwjGSyhXDG"
      },
      "source": [
        "<table>\n",
        "  <tr>\n",
        "      <td><div align=\"left\"><font size=\"20\" >Tutorial B.1 - Basic Geometry</font></div></td>\n",
        "     <td><img src=\"https://raw.githubusercontent.com/Tobias-Fischer/RVSS2022/main/Robotic_Vision/common/RVSS-logo.png\" width=\"400\"></td>\n",
        "  </tr>\n",
        "</table>"
      ]
    },
    {
      "cell_type": "markdown",
      "metadata": {
        "id": "MBhPbPyihXDI"
      },
      "source": [
        "## Table of Content\n",
        "\n",
        "1. #### Rotation Matrices\n",
        "2. #### Epipolar Lines\n",
        "3. #### Fundamental Matrix\n"
      ]
    },
    {
      "cell_type": "markdown",
      "metadata": {
        "id": "BV3U0kJJhXDI"
      },
      "source": [
        "## 1. Rotation Matrices\n",
        "\n",
        "In this section you will create a rotational matrix, apply the rotational matrix to a set of points, then plot the rotated set of points to see the effects.\n"
      ]
    },
    {
      "cell_type": "markdown",
      "metadata": {
        "id": "yDiiTRTUhXDI"
      },
      "source": [
        "We will begin by importing all the libraries we need and setting up the Jupyter notebook environment. Execute the following block of code."
      ]
    },
    {
      "cell_type": "code",
      "execution_count": null,
      "metadata": {
        "id": "FdVcuDYChXDJ"
      },
      "outputs": [],
      "source": [
        "# this line tells Jupyter that we are rendering plots in \"notebook\" style\n",
        "# %matplotlib notebook\n",
        "\n",
        "# import libraries we need\n",
        "import math\n",
        "import numpy as np\n",
        "import matplotlib\n",
        "from matplotlib import pyplot as plt\n",
        "from mpl_toolkits.mplot3d import Axes3D"
      ]
    },
    {
      "cell_type": "markdown",
      "metadata": {
        "id": "zlhUef7ghXDJ"
      },
      "source": [
        "Next, using the code below, we will create a list of points in 3D space and plot the points."
      ]
    },
    {
      "cell_type": "code",
      "execution_count": null,
      "metadata": {
        "scrolled": true,
        "id": "Guxkv333hXDJ"
      },
      "outputs": [],
      "source": [
        "# create a 3D plot figure\n",
        "fig = plt.figure()\n",
        "ax = fig.add_subplot(111, projection='3d')\n",
        "ax.set_xlim(-3,3),ax.set_ylim(-3,3),ax.set_zlim(-3,3)\n",
        "ax.set_xlabel('x'),ax.set_ylabel('y'),ax.set_zlabel('z')\n",
        "\n",
        "# create our points in 3D space\n",
        "# these are the 8 corners of a cube that ranges from 0 to 1 along all axes\n",
        "pt = np.array([[ 0, 0, 0 ],\n",
        "               [ 1, 0, 0 ],\n",
        "               [ 0, 1, 0 ],\n",
        "               [ 0, 0, 1 ],\n",
        "               [ 1, 1, 0 ],\n",
        "               [ 0, 1, 1 ],\n",
        "               [ 1, 0, 1 ],\n",
        "               [ 1, 1, 1 ],\n",
        "               ])\n",
        "pt = pt.transpose() # transpose the matrix so that the points are in columns, in preparation for matrix operations later on.\n",
        "\n",
        "# print out the points\n",
        "print('List of points (each column represents a point in 3D space)')\n",
        "print(pt)\n",
        "\n",
        "\n",
        "# plot the points\n",
        "ax.scatter(pt[0,:],pt[1,:],pt[2,:],'x', color='blue')\n",
        "\n",
        "plt.show()"
      ]
    },
    {
      "cell_type": "markdown",
      "metadata": {
        "id": "6VKRCHBMhXDK"
      },
      "source": [
        "Drag around the 3D plot area with the mouse to rotate the plot around and see the cube from different angles."
      ]
    },
    {
      "cell_type": "markdown",
      "metadata": {
        "id": "nm1U_iFjhXDK"
      },
      "source": [
        "Now, let's create a rotational matrix"
      ]
    },
    {
      "cell_type": "code",
      "execution_count": null,
      "metadata": {
        "id": "i5htMkxOhXDL"
      },
      "outputs": [],
      "source": [
        "## TODO: \n",
        "# create a rotational matrix that rotates a point by 45 deg about the x axis\n",
        "# HINT: the math.cos() and math.sin() functions take angles in radians. Use math.radians() to convert from deg to rad\n",
        "\n",
        "# Store your rotational matrix in this variable\n",
        "Rotx = np.array([[1,0,0],[0,1,0],[0,0,1]]) # identity matrix\n",
        "\n",
        "\n",
        "## End TODO ##\n",
        "\n",
        "# print out the rotation matrix\n",
        "print(Rotx)"
      ]
    },
    {
      "cell_type": "markdown",
      "metadata": {
        "id": "m1HmcHdhhXDL"
      },
      "source": [
        "Does the rotation matrix look like what you expected?\n",
        "\n",
        "Now let's apply the rotation to our list of points by multiplying the rotation matrix with our list of points"
      ]
    },
    {
      "cell_type": "code",
      "execution_count": null,
      "metadata": {
        "scrolled": false,
        "id": "lpJZ_1vmhXDL"
      },
      "outputs": [],
      "source": [
        "## TODO:\n",
        "# Multiply the rotation matrix by the list of points to apply the rotation to the points\n",
        "# HINT: Matrix multiplication between A and B can be computed as A.dot(B)\n",
        "\n",
        "# Store your rotated list of points in this variable\n",
        "pt_new = pt\n",
        "\n",
        "\n",
        "## End TODO ##\n",
        "\n",
        "# print out the matrix multiplication \n",
        "print(\"Calculating Rotx . pt\\n\")\n",
        "print(\"Rotx =\")\n",
        "print(Rotx)\n",
        "print(\"\\npt =\")\n",
        "print(pt)\n",
        "print(\"\\nAnswer =\")\n",
        "print (pt_new.round(3))\n",
        "\n",
        "# create a 3D plot\n",
        "fig = plt.figure()\n",
        "ax = fig.add_subplot(111, projection='3d')\n",
        "ax.set_xlim(-3,3),ax.set_ylim(-3,3),ax.set_zlim(-3,3)\n",
        "ax.set_xlabel('x'),ax.set_ylabel('y'),ax.set_zlabel('z')\n",
        "\n",
        "# plot the original points in blue, and rotated points in black\n",
        "ax.scatter(pt[0,:],pt[1,:],pt[2,:],'x', color='blue')\n",
        "ax.scatter(pt_new[0,:],pt_new[1,:],pt_new[2,:],'x', color='black')\n",
        "\n",
        "plt.show()"
      ]
    },
    {
      "cell_type": "markdown",
      "metadata": {
        "id": "nykWDPQ-hXDL"
      },
      "source": [
        "You should see that the new set of points are rotated about the x-axis by 45 deg"
      ]
    },
    {
      "cell_type": "markdown",
      "metadata": {
        "id": "-H11ep-WhXDM"
      },
      "source": [
        "EXTRA: \n",
        "\n",
        "If you have time:\n",
        "\n",
        "1) Try rotating the cube by different angles.\n",
        "\n",
        "2) Try rotating the cube about different axes.\n",
        "\n",
        "3) Try adding translation to shift the cube around (You can do this using either inhomogeneous or homogeneous coordinates)."
      ]
    },
    {
      "cell_type": "markdown",
      "metadata": {
        "id": "VsuPydVdhXDM"
      },
      "source": [
        "## 2. Translations\n",
        "\n",
        "In this section you will apply a translation to the rotated coordinates\n"
      ]
    },
    {
      "cell_type": "markdown",
      "metadata": {
        "id": "wPuqMLGYhXDM"
      },
      "source": [
        "We start by creating a column vector that contains the shift we want to apply in the x, y and z directions\n",
        "We make this be a 3x1 matrix (3 rows, 1 column) by using nested square brackets"
      ]
    },
    {
      "cell_type": "code",
      "execution_count": null,
      "metadata": {
        "id": "a9bvR5pbhXDM"
      },
      "outputs": [],
      "source": [
        "translation = np.array([[0.1],[0.2],[0.3]])\n",
        "print(translation)"
      ]
    },
    {
      "cell_type": "markdown",
      "metadata": {
        "id": "a3JTA0uVhXDM"
      },
      "source": [
        "We can now add the translation to the rotated points.  These matrices are different sizes (3x8) and (3x1) but numpy  is smart enough to figure out that we want to add the translation vector to every vector in the points matrix.  It does this by \"broadcasting\" the translation vector to every column of the points matrix"
      ]
    },
    {
      "cell_type": "code",
      "execution_count": null,
      "metadata": {
        "id": "uNBUZxUThXDM"
      },
      "outputs": [],
      "source": [
        "## TODO ##\n",
        "# Add the translation vector onto each of the points in pt_new and store the results in pt_new_t\n",
        "\n",
        "pt_new_t = pt_new\n",
        "print(pt_new_t)"
      ]
    },
    {
      "cell_type": "markdown",
      "metadata": {
        "id": "Dz8KMuAYhXDN"
      },
      "source": [
        "We can now plot the new points"
      ]
    },
    {
      "cell_type": "code",
      "execution_count": null,
      "metadata": {
        "id": "kacJYFK1hXDN"
      },
      "outputs": [],
      "source": [
        "# create a 3D plot\n",
        "fig = plt.figure()\n",
        "ax = fig.add_subplot(111, projection='3d')\n",
        "ax.set_xlim(-3,3),ax.set_ylim(-3,3),ax.set_zlim(-3,3)\n",
        "ax.set_xlabel('x'),ax.set_ylabel('y'),ax.set_zlabel('z')\n",
        "\n",
        "# plot the original points in blue, and rotated points in black\n",
        "ax.scatter(pt[0,:],pt[1,:],pt[2,:],'x', color='blue')\n",
        "ax.scatter(pt_new_t[0,:],pt_new_t[1,:],pt_new_t[2,:],'x', color='black')\n",
        "\n",
        "plt.show()"
      ]
    },
    {
      "cell_type": "markdown",
      "metadata": {
        "id": "KQ-4mhBMhXDN"
      },
      "source": [
        "## 3. Homogeneous coordinates\n",
        "\n",
        "in this section we will combine the operations of rotating and translating into a single matrix operation"
      ]
    },
    {
      "cell_type": "markdown",
      "metadata": {
        "id": "1oBO8PnfhXDN"
      },
      "source": [
        "First we extend our points into homogeneous coordinates by adding a row of ones at the bottom"
      ]
    },
    {
      "cell_type": "code",
      "execution_count": null,
      "metadata": {
        "id": "QigbKbK8hXDN"
      },
      "outputs": [],
      "source": [
        "h_pt = np.concatenate((pt, np.ones([1,8])), axis=0)\n",
        "print(h_pt)"
      ]
    },
    {
      "cell_type": "markdown",
      "metadata": {
        "id": "gS2nR15RhXDN"
      },
      "source": [
        "Now we can apply transformations to these coordinates using 4x4 matrices\n",
        "\n",
        "First we build a 4x4 matrix to apply the rotation and translation\n",
        "\n",
        "The matrix has the structure:\n",
        "\n",
        "[... R ... t ]  \n",
        "[ 0 0 0 1 ]"
      ]
    },
    {
      "cell_type": "code",
      "execution_count": null,
      "metadata": {
        "id": "OYT-YWwGhXDO"
      },
      "outputs": [],
      "source": [
        "## TODO\n",
        "# fill in the body of the function so that it rotates around the x axis by an angle specified by the argument degrees\n",
        "# and the apply a translation of t\n",
        "def RxT(degrees, t):\n",
        "    return np.array([[1,0,0,0],[0,1,0,0],[0,0,1,0],[0,0,0,1]])\n",
        "\n",
        "Transformation = RxT(45,np.array([0.1,0.2,0.3]))\n",
        "\n",
        "print(Transformation)"
      ]
    },
    {
      "cell_type": "code",
      "execution_count": null,
      "metadata": {
        "scrolled": true,
        "id": "eeJBff-4hXDO"
      },
      "outputs": [],
      "source": [
        "h_pt_new = Transformation.dot(h_pt)\n",
        "print(h_pt_new)"
      ]
    },
    {
      "cell_type": "markdown",
      "metadata": {
        "id": "IxCRUDPlhXDO"
      },
      "source": [
        "And display it:"
      ]
    },
    {
      "cell_type": "code",
      "execution_count": null,
      "metadata": {
        "id": "dQV_5bIvhXDO"
      },
      "outputs": [],
      "source": [
        "# create a 3D plot\n",
        "fig = plt.figure()\n",
        "ax = fig.add_subplot(111, projection='3d')\n",
        "ax.set_xlim(-3,3),ax.set_ylim(-3,3),ax.set_zlim(-3,3)\n",
        "ax.set_xlabel('x'),ax.set_ylabel('y'),ax.set_zlabel('z')\n",
        "\n",
        "# plot the original points in blue, and rotated points in black\n",
        "ax.scatter(h_pt[0,:],h_pt[1,:],h_pt[2,:],'x', color='blue')\n",
        "ax.scatter(h_pt_new[0,:],h_pt_new[1,:],h_pt_new[2,:],'x', color='black')\n",
        "\n",
        "plt.show()"
      ]
    },
    {
      "cell_type": "markdown",
      "metadata": {
        "id": "BjrZ4LVShXDO"
      },
      "source": [
        "### End of Rotation Matrices "
      ]
    }
  ],
  "metadata": {
    "kernelspec": {
      "display_name": "Python 3",
      "name": "python3"
    },
    "language_info": {
      "name": "python"
    },
    "varInspector": {
      "cols": {
        "lenName": 16,
        "lenType": 16,
        "lenVar": 40
      },
      "kernels_config": {
        "python": {
          "delete_cmd_postfix": "",
          "delete_cmd_prefix": "del ",
          "library": "var_list.py",
          "varRefreshCmd": "print(var_dic_list())"
        },
        "r": {
          "delete_cmd_postfix": ") ",
          "delete_cmd_prefix": "rm(",
          "library": "var_list.r",
          "varRefreshCmd": "cat(var_dic_list()) "
        }
      },
      "types_to_exclude": [
        "module",
        "function",
        "builtin_function_or_method",
        "instance",
        "_Feature"
      ],
      "window_display": false
    },
    "colab": {
      "name": "Basic Geometry.ipynb",
      "provenance": []
    }
  },
  "nbformat": 4,
  "nbformat_minor": 0
}