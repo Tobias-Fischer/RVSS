{
 "cells": [
  {
   "cell_type": "code",
   "execution_count": null,
   "metadata": {},
   "outputs": [],
   "source": [
    "import os\n",
    "from google.colab import drive\n",
    "\n",
    "drive.mount('/content/drive')\n",
    "\n",
    "%cd /content/drive/MyDrive/\n",
    "if not os.path.exists('RVSS2022'):\n",
    "  !git clone https://github.com/Tobias-Fischer/RVSS2022\n",
    "else:\n",
    "  %cd /content/drive/MyDrive/RVSS2022\n",
    "  !git pull\n",
    "%cd /content/drive/MyDrive/RVSS2022/Visual_Learning/segmentation"
   ]
  }
 ],
 "metadata": {
  "language_info": {
   "name": "python"
  },
  "orig_nbformat": 4
 },
 "nbformat": 4,
 "nbformat_minor": 2
}
