{
  "cells": [
    {
      "cell_type": "markdown",
      "metadata": {
        "id": "DibssfhAzTGe"
      },
      "source": [
        "# <center>Deep RL - Replay Memory</center>"
      ]
    },
    {
      "cell_type": "markdown",
      "metadata": {
        "id": "97eVNiOfzTGg"
      },
      "source": [
        "# 1. Setup\n",
        "\n",
        "#### Make sure that all the required dependencies are installed"
      ]
    },
    {
      "cell_type": "code",
      "execution_count": null,
      "metadata": {
        "id": "YN0S29tizTGh"
      },
      "outputs": [],
      "source": [
        "import sys\n",
        "!{sys.executable} -m pip install gym"
      ]
    },
    {
      "cell_type": "code",
      "source": [
        "!git clone https://github.com/Tobias-Fischer/RVSS2022-RL.git"
      ],
      "metadata": {
        "id": "lH1fXaFZzeGL"
      },
      "execution_count": null,
      "outputs": []
    },
    {
      "cell_type": "markdown",
      "metadata": {
        "id": "hlCBVrgbzTGi"
      },
      "source": [
        "#### Import all dependencies"
      ]
    },
    {
      "cell_type": "code",
      "execution_count": null,
      "metadata": {
        "id": "gZsCbjPezTGi"
      },
      "outputs": [],
      "source": [
        "# Import all required dependencies\n",
        "\n",
        "import gym\n",
        "import math\n",
        "import random\n",
        "import numpy as np\n",
        "from collections import namedtuple\n",
        "import copy\n",
        "from itertools import count\n",
        "\n",
        "import torch\n",
        "import torch.nn as nn\n",
        "import torch.optim as optim\n",
        "import torch.autograd as autograd \n",
        "\n",
        "\n",
        "import matplotlib.pyplot as plt\n",
        "\n",
        "import io\n",
        "import base64\n",
        "from IPython.display import HTML, Image\n",
        "from IPython.display import clear_output\n",
        "\n",
        "import sys\n",
        "import os\n",
        "sys.path.insert(0, os.path.abspath('RVSS2022-RL/Support'))\n",
        "\n",
        "# if gpu is to be used\n",
        "device = torch.device(\"cuda\" if torch.cuda.is_available() else \"cpu\")"
      ]
    },
    {
      "cell_type": "markdown",
      "metadata": {
        "id": "XQF7Q2sazTGj"
      },
      "source": [
        "# 2. CartPole Environment\n",
        "\n",
        "In this notebook, we will use DQN to solve the Cart-Pole environment.\n",
        "\n",
        "![](https://raw.githubusercontent.com/Tobias-Fischer/RVSS2022-RL/main/Support/images/cartPole.gif)"
      ]
    },
    {
      "cell_type": "markdown",
      "source": [
        "## State Space\n",
        "The state space of this environment is defined by a 4-tuple where each value represents:\n",
        "\n",
        "![](https://raw.githubusercontent.com/Tobias-Fischer/RVSS2022-RL/main/Support/images/cartPole_actionSpace.png)"
      ],
      "metadata": {
        "id": "GY5Z-pXszsL-"
      }
    },
    {
      "cell_type": "markdown",
      "source": [
        "## Action Space\n",
        "There are just two possible discrete actions\n",
        "\n",
        "<table>\n",
        "<thead>\n",
        "<tr>\n",
        "<th>Num</th>\n",
        "<th>Action</th>\n",
        "</tr>\n",
        "</thead>\n",
        "<tbody>\n",
        "<tr>\n",
        "<td>0</td>\n",
        "<td>Push cart to the left</td>\n",
        "</tr>\n",
        "<tr>\n",
        "<td>1</td>\n",
        "<td>Push cart to the right</td>\n",
        "    </tr>\n",
        "</table>\n",
        "\n",
        "## Rewards\n",
        "\n",
        "Reward is 1 for every step taken, including the termination step\n",
        "\n",
        "## Other Considerations\n",
        "- When choosing the starting state, all observations are assigned a uniform random value in [-0.05..0.05]\n",
        "- An episode is considered as terminated if:\n",
        "    - Pole Angle is more than 12 degrees.\n",
        "    - Cart Position is more than 2.4 (center of the cart reaches the edge of the display).\n",
        "    - Episode length is greater than 200.\n",
        "    \n",
        "    \n",
        "**The environment is considered to be solved when the average return is greater than or equal to 195.0 over 100 consecutive trials.**"
      ],
      "metadata": {
        "id": "YK6k_wODzsfg"
      }
    },
    {
      "cell_type": "markdown",
      "metadata": {
        "id": "9JtoItEjzTGj"
      },
      "source": [
        "# 3. DQN Algorithm\n",
        "\n",
        "With a random policy, the cart pole control is very poor. We got only 13 points as return.\n",
        "\n",
        "Let's use Deep Q-learning to improve the performance of the cart pole"
      ]
    },
    {
      "cell_type": "code",
      "execution_count": null,
      "metadata": {
        "id": "PcAotJcDzTGk"
      },
      "outputs": [],
      "source": [
        "video = io.open('RVSS2022-RL/Support/images/randomPolicy.mp4', 'r+b').read()\n",
        "encoded = base64.b64encode(video)\n",
        "HTML(data='''\n",
        "    <video width=\"360\" height=\"auto\" alt=\"test\" controls><source src=\"data:video/mp4;base64,{0}\" type=\"video/mp4\" /></video>'''\n",
        ".format(encoded.decode('ascii')))"
      ]
    },
    {
      "cell_type": "markdown",
      "metadata": {
        "id": "ru36gyX5zTGk"
      },
      "source": [
        "Our implementation follows the algorithm proposed by *Mnih et .al* in  <a href=\"https://www.cs.toronto.edu/~vmnih/docs/dqn.pdf\">Playing Atari with Deep Reinforcement Learning</a> \n",
        "\n",
        "![](https://raw.githubusercontent.com/Tobias-Fischer/RVSS2022-RL/main/Support/images/dqn_replay.png)"
      ]
    },
    {
      "cell_type": "markdown",
      "source": [
        "We have decomposed the algorithm shown above into:\n",
        "- A ReplayMemory class to represent and encode the Replay Buffer\n",
        "- A DQN class to represent our NN function approximator\n",
        "- An agent class which contains the learning logic of the algorithm\n",
        "- A main loop in which transition tuples ('state', 'action', 'next_state', 'reward', 'done') are generated and added to the replay buffer. This loop also calls the agent ``optimize(.)`` method to train our approximator"
      ],
      "metadata": {
        "id": "4OPep4Dg0Ztk"
      }
    },
    {
      "cell_type": "markdown",
      "metadata": {
        "id": "ADd6mGiBzTGk"
      },
      "source": [
        "## Replay Buffer\n",
        "\n",
        "Let's first define our representation of the replay buffer. To do so, we will use the class ``ReplayMemory`` shown below\n",
        "\n",
        "**Note**: This implementation of the ReplayMemory class was taken from [***Pytorch DQN tutorial***](https://pytorch.org/tutorials/intermediate/reinforcement_q_learning.html)"
      ]
    },
    {
      "cell_type": "code",
      "execution_count": null,
      "metadata": {
        "id": "W3caEJUezTGk"
      },
      "outputs": [],
      "source": [
        "# This tuple represents one observation in our environment\n",
        "Transition = namedtuple('Transition',\n",
        "                        ('state', 'action', 'next_state', 'reward', 'done'))\n",
        "\n",
        "class ReplayMemory:\n",
        "    \"\"\"\n",
        "    A cyclic buffer of bounded size (capacity) that holds the transitions \n",
        "    observed recently. \n",
        "    \n",
        "    It also implements a sample() method for selecting a random \n",
        "    batch of transitions for training.\n",
        "    \"\"\"\n",
        "    def __init__(self, capacity):\n",
        "        self.capacity = capacity\n",
        "        self.memory = []\n",
        "        self.position = 0\n",
        "\n",
        "    def push(self, *args):\n",
        "        \"\"\"Saves a transition.\"\"\"\n",
        "        if len(self.memory) < self.capacity:\n",
        "            self.memory.append(None)\n",
        "        self.memory[self.position] = Transition(*args)\n",
        "        self.position = (self.position + 1) % self.capacity\n",
        "\n",
        "    def sample(self, batch_size):\n",
        "        \"\"\"Returns a minibatch of `Transition` randomly\n",
        "        Args:\n",
        "            batch_size (int): Size of mini-bach\n",
        "        Returns:\n",
        "            List[Transition]: Minibatch of `Transition`\n",
        "        \"\"\"\n",
        "        return random.sample(self.memory, batch_size)\n",
        "\n",
        "    def __len__(self):\n",
        "        \"\"\"Returns the length \"\"\"\n",
        "        return len(self.memory)"
      ]
    },
    {
      "cell_type": "markdown",
      "metadata": {
        "id": "j7uvzPnjzTGl"
      },
      "source": [
        "## DQN Network\n",
        "\n",
        "Let us now define the Multi Layer Perceptron network that will be used as the function approximator for the action-value function (q-function)"
      ]
    },
    {
      "cell_type": "code",
      "execution_count": null,
      "metadata": {
        "id": "C0e6KCejzTGl"
      },
      "outputs": [],
      "source": [
        "class DQN(nn.Module):\n",
        "    \"\"\"DQN Network\n",
        "        Args:\n",
        "        input_dim (int): `state` dimension.\n",
        "        output_dim (int): Number of actions.\n",
        "        hidden_dim (int): Hidden dimension in fully connected layer\n",
        "    \"\"\"\n",
        "    def __init__(self, num_inputs=4, num_actions=2, hidden_dim=128):\n",
        "        super(DQN, self).__init__()\n",
        "        \n",
        "        self.layers = nn.Sequential(\n",
        "            nn.Linear(num_inputs, hidden_dim),\n",
        "            nn.ReLU(),\n",
        "            nn.Linear(hidden_dim, hidden_dim),\n",
        "            nn.ReLU(),\n",
        "            nn.Linear(hidden_dim, num_actions)\n",
        "        )\n",
        "        \n",
        "    def forward(self, x):\n",
        "        \"\"\"Returns a Q_value\n",
        "        Args:\n",
        "            x (torch.Tensor): `State` 2-D tensor of shape (n, num_inputs)\n",
        "        Returns:\n",
        "            torch.Tensor: Q_value, 2-D tensor of shape (n, num_actions)\n",
        "        \"\"\"\n",
        "        return self.layers(x)"
      ]
    },
    {
      "cell_type": "markdown",
      "metadata": {
        "id": "Dq6brNNTzTGl"
      },
      "source": [
        "## DQN Agent\n",
        "\n",
        "This class contains the main steps of the Deep Q-learnig algorithm (highlighted in blue) in the image shown above.\n",
        "\n",
        "**TODO**: \n",
        "- Complete the computation of the target value. Use the variables ``non_final_mask`` and ``non_final_next_states`` to do so. Similarly, the method ``get_next_q()`` returns the q-value of the maximum valued action at a given state, i.e., $\\max_{a'}Q(s,a';\\theta)$\n",
        "- Compute the loss. That is the difference between the target q-values (``expected_q``) and the values estimated by the network (``predicted_q``). Use the attribute ``self.loss_fn(.)``.\n",
        "\n",
        "Keep in mind how the targets are computed in the original algorithm\n",
        "\n",
        "![](https://raw.githubusercontent.com/Tobias-Fischer/RVSS2022-RL/main/Support/images/targets.png)"
      ]
    },
    {
      "cell_type": "code",
      "execution_count": null,
      "metadata": {
        "id": "3A__BnGNzTGl"
      },
      "outputs": [],
      "source": [
        "class DQNAgent(object):\n",
        "    \"\"\"DQN Agent\n",
        "    This class contains the main steps of the DQN algorithm\n",
        "    \n",
        "    Attributes:\n",
        "    policy_net (DQN): Function approximator for our target q function\n",
        "    loss_fn (MSELoss): Criterion that measures the mean squared error (squared L2 norm) \n",
        "                       between each element of the predicted and target q-values.\n",
        "    optimizer (Adam): Stochastic gradient optimizer\n",
        "    gamma (float): Discount factor\n",
        "    \"\"\"\n",
        "    \n",
        "    def __init__(self, seed=123, input_dim=4, output_dim=2, \n",
        "                 hidden_dim=128, gamma=0.99):\n",
        "        \"\"\"\n",
        "        Define instance of DQNAgent\n",
        "        Args:\n",
        "        seed (int): Value used to initialize random number generator\n",
        "        input_dim (int): `state` dimension.\n",
        "        output_dim (int): Number of actions.\n",
        "        hidden_dim (int): Hidden dimension in fully connected layer\n",
        "        \"\"\"\n",
        "        torch.manual_seed(seed)\n",
        "        self.policy_net = DQN(input_dim, output_dim, hidden_dim).to(device)\n",
        "                \n",
        "        self.loss_fn = nn.MSELoss()\n",
        "        self.optimizer = optim.Adam(self.policy_net.parameters(), lr=0.001)\n",
        "                \n",
        "        self.gamma = torch.tensor(gamma).float().to(device)\n",
        "        \n",
        "    def get_action(self, state, action_space_dim, epsilon):\n",
        "        \"\"\"\n",
        "        Select next action using epsilon-greedy policy\n",
        "        Args:\n",
        "        epsilon (float): Threshold used to decide whether a random or maximum-value action \n",
        "                         should be taken next\n",
        "         Returns:\n",
        "            int: action index\n",
        "        \"\"\"        \n",
        "        with torch.no_grad():\n",
        "            cur_q = self.policy_net(torch.from_numpy(state).float().to(device))\n",
        "        q_value, action = torch.max(cur_q, axis=0)\n",
        "        action = action if torch.rand(1,).item() > epsilon else torch.randint(0, action_space_dim, (1,)).item()\n",
        "        action = torch.tensor([action]).to(device)\n",
        "        return action\n",
        "    \n",
        "    def get_next_q(self, state):\n",
        "        \"\"\"Returns Q_value for maximum valued action at each state s\n",
        "        Args:\n",
        "            x (torch.Tensor): `State` 2-D tensor of shape (n, num_inputs)\n",
        "        Returns:\n",
        "            torch.Tensor: Q_value, 1 tensor of shape (n)\n",
        "        \"\"\"\n",
        "        with torch.no_grad():\n",
        "            next_q = self.policy_net(state)\n",
        "        q, _ = torch.max(next_q, axis=1)\n",
        "        return q\n",
        "    \n",
        "    def optimize(self, batch):\n",
        "        \"\"\"Computes `loss` and backpropagation\n",
        "        Args:\n",
        "            batch: List[Transition]: Minibatch of `Transition`\n",
        "        Returns:\n",
        "            float: loss value\n",
        "        \"\"\"\n",
        "        \n",
        "        state_batch = torch.stack(batch.state)\n",
        "        action_batch = torch.stack(batch.action)\n",
        "        reward_batch = torch.stack(batch.reward)\n",
        "        next_state_batch = torch.stack(batch.next_state)\n",
        "                \n",
        "        # Compute a mask of non-final states and concatenate the batch elements\n",
        "        # (a final state is the one after which the simulation ends)\n",
        "        non_final_mask = torch.tensor(tuple(map(lambda s: s.item() is not True,\n",
        "                                          batch.done)), device=device, dtype=torch.bool)\n",
        "        non_final_next_states = torch.stack([s for i, s in enumerate(batch.next_state)\n",
        "                                            if batch.done[i].item() is not True])\n",
        "\n",
        "        # Compute predicted q-values\n",
        "        predicted_q = self.policy_net(state_batch).gather(1, action_batch).reshape(1,-1)\n",
        "        \n",
        "        # TODO 1: Compute expected values for non-terminal and terminal states (this is our TD target)\n",
        "        target_q = 0\n",
        "        target_q[non_final_mask] = 0\n",
        "        \n",
        "        expected_q = reward_batch.reshape(1,-1)+(self.gamma * target_q)\n",
        "        \n",
        "        # TODO 2: Compute loss \n",
        "        loss = 0\n",
        "        \n",
        "        # Use loss to compute gradient and update policy parameters through backpropagation\n",
        "        self.optimizer.zero_grad()\n",
        "        loss.backward(retain_graph=True)\n",
        "        self.optimizer.step()\n",
        "                \n",
        "        return loss.item()\n"
      ]
    },
    {
      "cell_type": "markdown",
      "metadata": {
        "id": "IUATorXCzTGm"
      },
      "source": [
        "### This function will help us to see the progress of our DQN Agent during training"
      ]
    },
    {
      "cell_type": "code",
      "execution_count": null,
      "metadata": {
        "id": "8DTwwQNBzTGm"
      },
      "outputs": [],
      "source": [
        "def plot(frame_idx, rewards, losses):\n",
        "    \"\"\"\n",
        "    Plot evolution of rewards and losses during training\n",
        "    Args:\n",
        "         rewards (list): Cummulative rewards for episodes seen so far\n",
        "         losses (list): Prediction error at each training step\n",
        "    \n",
        "    \"\"\"\n",
        "    clear_output(True)\n",
        "    plt.figure(figsize=(20,5))\n",
        "    plt.subplot(131)\n",
        "    plt.title('Steps %s.\\nCummulative reward last 10 episodes: %s' % (frame_idx, np.mean(rewards[-10:])))\n",
        "    plt.plot(rewards)\n",
        "    plt.ylabel(\"Avg. cummulative reward\")\n",
        "    plt.xlabel(\"No. of steps\")\n",
        "    plt.subplot(132)\n",
        "    plt.title('MSE Loss')\n",
        "    plt.ylabel(\"Avg. cummulative TD-loss\")\n",
        "    plt.xlabel(\"No. of steps\")\n",
        "    plt.plot(losses)\n",
        "    plt.show()"
      ]
    },
    {
      "cell_type": "markdown",
      "metadata": {
        "id": "5jITdpPEzTGn"
      },
      "source": [
        "### Running Parameters"
      ]
    },
    {
      "cell_type": "code",
      "execution_count": null,
      "metadata": {
        "id": "njqF40kyzTGn"
      },
      "outputs": [],
      "source": [
        "# Define running hyper-parameters and epsilon training sequence\n",
        "memory_capacity = 1000\n",
        "batch_size = 32\n",
        "env_name = \"CartPole-v0\"\n",
        "num_frames = 10000\n",
        "epsilon_start = 1.0\n",
        "epsilon_end = 0.01\n",
        "epsilon_decay = 1200\n",
        "gamma = 0.99\n",
        "hidden_dim = 128\n",
        "\n",
        "epsilon_by_step = lambda frame_idx: epsilon_end + (epsilon_start - epsilon_end) * math.exp(-1. * frame_idx / epsilon_decay)"
      ]
    },
    {
      "cell_type": "code",
      "execution_count": null,
      "metadata": {
        "id": "3W19EFhazTGn"
      },
      "outputs": [],
      "source": [
        "fig, ax = plt.subplots(figsize=(4, 4))\n",
        "\n",
        "ax.plot([epsilon_by_step(i) for i in range(num_frames)])\n",
        "ax.set_xlabel(\"Num. steps\")\n",
        "ax.set_ylabel(\"Epsilon\")\n",
        "\n",
        "plt.show()"
      ]
    },
    {
      "cell_type": "markdown",
      "metadata": {
        "id": "mN8_HkPCzTGo"
      },
      "source": [
        "### Main Loop and Replay Buffer Control\n",
        "\n",
        "This is the main loop of our DQN implementation. Here we generate the samples added to the replay memory and train the agent using a batch sampled for the replay memory"
      ]
    },
    {
      "cell_type": "code",
      "execution_count": null,
      "metadata": {
        "id": "RcfqTdTJzTGo"
      },
      "outputs": [],
      "source": [
        "# Define varibles for plotting\n",
        "losses_list, rewards_list, episode_len_list = [], [], []\n",
        "list_epsilon = []\n",
        "\n",
        "# Create instance of reply buffer\n",
        "replay_buffer = ReplayMemory(memory_capacity)\n",
        "\n",
        "# Create environment\n",
        "env = gym.make(env_name)\n",
        "n_actions = env.action_space.n\n",
        "dim_state = env.observation_space.shape[0]\n",
        "\n",
        "# Create agent\n",
        "agent = DQNAgent(seed=1234, input_dim=dim_state, \n",
        "                 output_dim=n_actions, \n",
        "                 hidden_dim=hidden_dim, gamma=gamma)\n",
        "\n",
        "# Reset environment and set all counters and cummulative varibles to zero\n",
        "state, ep_len, losses, episode_reward = env.reset(), 0, 0, 0\n",
        "\n",
        "for frame_idx in range(1, num_frames + 1):    \n",
        "    # Get epsilon\n",
        "    cur_epsilon = epsilon_by_step(frame_idx)\n",
        "    \n",
        "    # Sample action using e-greedy policy\n",
        "    action = agent.get_action(state, n_actions, cur_epsilon)\n",
        "    \n",
        "    # Apply action and observe changes in the environment\n",
        "    next_state, reward, done, _ = env.step(action.item())\n",
        "    episode_reward += reward\n",
        "    \n",
        "    # Transform observation into Transition tuple\n",
        "    t_s = torch.tensor(state).float().to(device)\n",
        "    t_r = torch.tensor([reward]).float().to(device)\n",
        "    t_ns = torch.tensor(next_state).float().to(device)\n",
        "    t_a = action.to(device)\n",
        "    t_done = torch.tensor([done]).bool().to(device)\n",
        "                \n",
        "    # Add new sample to replay buffer\n",
        "    replay_buffer.push(t_s, t_a, t_ns, t_r, t_done)\n",
        "    state = next_state\n",
        "    \n",
        "    ep_len += 1\n",
        "    \n",
        "    # If current episode has finished, reset environment and counters for next episode\n",
        "    if done:\n",
        "        state = env.reset()\n",
        "        rewards_list.append(episode_reward)\n",
        "        episode_len_list.append(ep_len)\n",
        "        episode_reward, ep_len = 0, 0\n",
        "    \n",
        "    # If replay buffer has at least batch_size elements, sample batch and train approximator\n",
        "    if len(replay_buffer) > batch_size:\n",
        "        transitions = replay_buffer.sample(batch_size)\n",
        "        batch = Transition(*zip(*transitions))\n",
        "        loss = agent.optimize(batch)\n",
        "        losses_list.append(loss)\n",
        "    \n",
        "    # Every 200 steps we plot the approximator's progress and performance\n",
        "    if frame_idx % 200 == 0:\n",
        "        plot(frame_idx, rewards_list, losses_list)"
      ]
    },
    {
      "cell_type": "markdown",
      "metadata": {
        "id": "rE3_qKIKzTGp"
      },
      "source": [
        "### Let's now test our trained model\n",
        "\n",
        "Can we do better than the random policy?\n",
        "\n",
        "We can verify the performance of our agent by looking at the cummulative reward "
      ]
    },
    {
      "cell_type": "code",
      "execution_count": null,
      "metadata": {
        "id": "ch-tUCRozTGp"
      },
      "outputs": [],
      "source": [
        "from gym import wrappers\n",
        "\n",
        "env = gym.make(\"CartPole-v0\")\n",
        "env = wrappers.Monitor(env, \"./gym-results\", force=True, video_callable=False)\n",
        "n_trials = 100\n",
        "list_rewards = []\n",
        "\n",
        "for i in range(n_trials):\n",
        "    observation = env.reset()\n",
        "    ep_return = 0\n",
        "    done = False\n",
        "    while not done:\n",
        "        action = agent.get_action(observation, n_actions, 0.01)\n",
        "        observation, reward, done, info = env.step(action.item())\n",
        "        ep_return += reward\n",
        "    list_rewards.append(ep_return)\n",
        "env.close()\n",
        "\n",
        "fig, ax = plt.subplots(figsize=(4, 4))\n",
        "ax.plot(list_rewards)\n",
        "ax.set_xlabel(\"Num. Trial\")\n",
        "ax.set_ylabel(\"Return\")\n",
        "ax.set_title('Average return %s +- %s' % (np.round(np.mean(list_rewards),2), np.round(np.std(list_rewards), 2)))\n",
        "\n",
        "plt.show()"
      ]
    },
    {
      "cell_type": "markdown",
      "metadata": {
        "id": "HELsW_V4zTGp"
      },
      "source": [
        "### This is an example of the performance obtained after training the agent with the hyper-parameters listed above"
      ]
    },
    {
      "cell_type": "code",
      "execution_count": null,
      "metadata": {
        "id": "xgUjZVq9zTGq"
      },
      "outputs": [],
      "source": [
        "import io\n",
        "import base64\n",
        "from IPython.display import HTML\n",
        "\n",
        "video = io.open('./RVSS2022-RL/Support/images/cartPole_learned.mp4', 'r+b').read()\n",
        "encoded = base64.b64encode(video)\n",
        "HTML(data='''\n",
        "    <video width=\"360\" height=\"auto\" alt=\"test\" controls><source src=\"data:video/mp4;base64,{0}\" type=\"video/mp4\" /></video>'''\n",
        ".format(encoded.decode('ascii')))"
      ]
    }
  ],
  "metadata": {
    "kernelspec": {
      "display_name": "Python (Passive Inference)",
      "language": "python",
      "name": "passiveinference"
    },
    "language_info": {
      "codemirror_mode": {
        "name": "ipython",
        "version": 3
      },
      "file_extension": ".py",
      "mimetype": "text/x-python",
      "name": "python",
      "nbconvert_exporter": "python",
      "pygments_lexer": "ipython3",
      "version": "3.8.1"
    },
    "colab": {
      "name": "DeepRL_ReplayMemory.ipynb",
      "provenance": [],
      "collapsed_sections": []
    }
  },
  "nbformat": 4,
  "nbformat_minor": 0
}